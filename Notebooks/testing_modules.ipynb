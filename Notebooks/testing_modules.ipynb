{
  "nbformat": 4,
  "nbformat_minor": 0,
  "metadata": {
    "colab": {
      "provenance": []
    },
    "kernelspec": {
      "name": "python3",
      "display_name": "Python 3"
    },
    "language_info": {
      "name": "python"
    }
  },
  "cells": [
    {
      "cell_type": "code",
      "source": [
        "!pip install scikit-learn==0.22.2"
      ],
      "metadata": {
        "colab": {
          "base_uri": "https://localhost:8080/"
        },
        "id": "fSh8BoTwga8v",
        "outputId": "ea5974eb-e1be-4c0a-fa7e-19dd3d602938"
      },
      "execution_count": null,
      "outputs": [
        {
          "output_type": "stream",
          "name": "stdout",
          "text": [
            "Looking in indexes: https://pypi.org/simple, https://us-python.pkg.dev/colab-wheels/public/simple/\n",
            "Requirement already satisfied: scikit-learn==0.22.2 in /usr/local/lib/python3.8/dist-packages (0.22.2)\n",
            "Requirement already satisfied: numpy>=1.11.0 in /usr/local/lib/python3.8/dist-packages (from scikit-learn==0.22.2) (1.21.6)\n",
            "Requirement already satisfied: scipy>=0.17.0 in /usr/local/lib/python3.8/dist-packages (from scikit-learn==0.22.2) (1.7.3)\n",
            "Requirement already satisfied: joblib>=0.11 in /usr/local/lib/python3.8/dist-packages (from scikit-learn==0.22.2) (1.2.0)\n"
          ]
        }
      ]
    },
    {
      "cell_type": "code",
      "source": [
        "!pip install sklearn_crfsuite"
      ],
      "metadata": {
        "colab": {
          "base_uri": "https://localhost:8080/"
        },
        "id": "rlJfS1bngVjT",
        "outputId": "70b7c247-fadb-4fa9-e3a6-51011172b787"
      },
      "execution_count": null,
      "outputs": [
        {
          "output_type": "stream",
          "name": "stdout",
          "text": [
            "Looking in indexes: https://pypi.org/simple, https://us-python.pkg.dev/colab-wheels/public/simple/\n",
            "Requirement already satisfied: sklearn_crfsuite in /usr/local/lib/python3.8/dist-packages (0.3.6)\n",
            "Requirement already satisfied: tqdm>=2.0 in /usr/local/lib/python3.8/dist-packages (from sklearn_crfsuite) (4.64.1)\n",
            "Requirement already satisfied: tabulate in /usr/local/lib/python3.8/dist-packages (from sklearn_crfsuite) (0.8.10)\n",
            "Requirement already satisfied: six in /usr/local/lib/python3.8/dist-packages (from sklearn_crfsuite) (1.15.0)\n",
            "Requirement already satisfied: python-crfsuite>=0.8.3 in /usr/local/lib/python3.8/dist-packages (from sklearn_crfsuite) (0.9.8)\n"
          ]
        }
      ]
    },
    {
      "cell_type": "code",
      "source": [
        "!pip install spacy"
      ],
      "metadata": {
        "colab": {
          "base_uri": "https://localhost:8080/"
        },
        "id": "YkWbWhZqfhg7",
        "outputId": "8c4bda24-cd81-4f67-acac-7372c681e9ee"
      },
      "execution_count": null,
      "outputs": [
        {
          "output_type": "stream",
          "name": "stdout",
          "text": [
            "Looking in indexes: https://pypi.org/simple, https://us-python.pkg.dev/colab-wheels/public/simple/\n",
            "Requirement already satisfied: spacy in /usr/local/lib/python3.8/dist-packages (3.4.4)\n",
            "Requirement already satisfied: spacy-legacy<3.1.0,>=3.0.10 in /usr/local/lib/python3.8/dist-packages (from spacy) (3.0.11)\n",
            "Requirement already satisfied: thinc<8.2.0,>=8.1.0 in /usr/local/lib/python3.8/dist-packages (from spacy) (8.1.6)\n",
            "Requirement already satisfied: srsly<3.0.0,>=2.4.3 in /usr/local/lib/python3.8/dist-packages (from spacy) (2.4.5)\n",
            "Requirement already satisfied: cymem<2.1.0,>=2.0.2 in /usr/local/lib/python3.8/dist-packages (from spacy) (2.0.7)\n",
            "Requirement already satisfied: setuptools in /usr/local/lib/python3.8/dist-packages (from spacy) (57.4.0)\n",
            "Requirement already satisfied: preshed<3.1.0,>=3.0.2 in /usr/local/lib/python3.8/dist-packages (from spacy) (3.0.8)\n",
            "Requirement already satisfied: murmurhash<1.1.0,>=0.28.0 in /usr/local/lib/python3.8/dist-packages (from spacy) (1.0.9)\n",
            "Requirement already satisfied: langcodes<4.0.0,>=3.2.0 in /usr/local/lib/python3.8/dist-packages (from spacy) (3.3.0)\n",
            "Requirement already satisfied: tqdm<5.0.0,>=4.38.0 in /usr/local/lib/python3.8/dist-packages (from spacy) (4.64.1)\n",
            "Requirement already satisfied: numpy>=1.15.0 in /usr/local/lib/python3.8/dist-packages (from spacy) (1.21.6)\n",
            "Requirement already satisfied: wasabi<1.1.0,>=0.9.1 in /usr/local/lib/python3.8/dist-packages (from spacy) (0.10.1)\n",
            "Requirement already satisfied: spacy-loggers<2.0.0,>=1.0.0 in /usr/local/lib/python3.8/dist-packages (from spacy) (1.0.4)\n",
            "Requirement already satisfied: pydantic!=1.8,!=1.8.1,<1.11.0,>=1.7.4 in /usr/local/lib/python3.8/dist-packages (from spacy) (1.10.4)\n",
            "Requirement already satisfied: typer<0.8.0,>=0.3.0 in /usr/local/lib/python3.8/dist-packages (from spacy) (0.7.0)\n",
            "Requirement already satisfied: pathy>=0.3.5 in /usr/local/lib/python3.8/dist-packages (from spacy) (0.10.1)\n",
            "Requirement already satisfied: jinja2 in /usr/local/lib/python3.8/dist-packages (from spacy) (2.11.3)\n",
            "Requirement already satisfied: smart-open<7.0.0,>=5.2.1 in /usr/local/lib/python3.8/dist-packages (from spacy) (6.3.0)\n",
            "Requirement already satisfied: requests<3.0.0,>=2.13.0 in /usr/local/lib/python3.8/dist-packages (from spacy) (2.25.1)\n",
            "Requirement already satisfied: packaging>=20.0 in /usr/local/lib/python3.8/dist-packages (from spacy) (21.3)\n",
            "Requirement already satisfied: catalogue<2.1.0,>=2.0.6 in /usr/local/lib/python3.8/dist-packages (from spacy) (2.0.8)\n",
            "Requirement already satisfied: pyparsing!=3.0.5,>=2.0.2 in /usr/local/lib/python3.8/dist-packages (from packaging>=20.0->spacy) (3.0.9)\n",
            "Requirement already satisfied: typing-extensions>=4.2.0 in /usr/local/lib/python3.8/dist-packages (from pydantic!=1.8,!=1.8.1,<1.11.0,>=1.7.4->spacy) (4.4.0)\n",
            "Requirement already satisfied: idna<3,>=2.5 in /usr/local/lib/python3.8/dist-packages (from requests<3.0.0,>=2.13.0->spacy) (2.10)\n",
            "Requirement already satisfied: chardet<5,>=3.0.2 in /usr/local/lib/python3.8/dist-packages (from requests<3.0.0,>=2.13.0->spacy) (4.0.0)\n",
            "Requirement already satisfied: urllib3<1.27,>=1.21.1 in /usr/local/lib/python3.8/dist-packages (from requests<3.0.0,>=2.13.0->spacy) (1.24.3)\n",
            "Requirement already satisfied: certifi>=2017.4.17 in /usr/local/lib/python3.8/dist-packages (from requests<3.0.0,>=2.13.0->spacy) (2022.12.7)\n",
            "Requirement already satisfied: confection<1.0.0,>=0.0.1 in /usr/local/lib/python3.8/dist-packages (from thinc<8.2.0,>=8.1.0->spacy) (0.0.3)\n",
            "Requirement already satisfied: blis<0.8.0,>=0.7.8 in /usr/local/lib/python3.8/dist-packages (from thinc<8.2.0,>=8.1.0->spacy) (0.7.9)\n",
            "Requirement already satisfied: click<9.0.0,>=7.1.1 in /usr/local/lib/python3.8/dist-packages (from typer<0.8.0,>=0.3.0->spacy) (7.1.2)\n",
            "Requirement already satisfied: MarkupSafe>=0.23 in /usr/local/lib/python3.8/dist-packages (from jinja2->spacy) (2.0.1)\n"
          ]
        }
      ]
    },
    {
      "cell_type": "code",
      "source": [
        "!python -m spacy download nl_core_news_sm"
      ],
      "metadata": {
        "colab": {
          "base_uri": "https://localhost:8080/"
        },
        "id": "i6fp6p1ugTYw",
        "outputId": "c562fed7-d6c5-45e1-8124-9d76283d4d83"
      },
      "execution_count": null,
      "outputs": [
        {
          "output_type": "stream",
          "name": "stdout",
          "text": [
            "/usr/local/lib/python3.8/dist-packages/torch/cuda/__init__.py:497: UserWarning: Can't initialize NVML\n",
            "  warnings.warn(\"Can't initialize NVML\")\n",
            "2023-01-14 23:04:08.084255: E tensorflow/stream_executor/cuda/cuda_driver.cc:271] failed call to cuInit: CUDA_ERROR_NO_DEVICE: no CUDA-capable device is detected\n",
            "Looking in indexes: https://pypi.org/simple, https://us-python.pkg.dev/colab-wheels/public/simple/\n",
            "Collecting nl-core-news-sm==3.4.0\n",
            "  Downloading https://github.com/explosion/spacy-models/releases/download/nl_core_news_sm-3.4.0/nl_core_news_sm-3.4.0-py3-none-any.whl (12.8 MB)\n",
            "\u001b[2K     \u001b[90m━━━━━━━━━━━━━━━━━━━━━━━━━━━━━━━━━━━━━━━━\u001b[0m \u001b[32m12.8/12.8 MB\u001b[0m \u001b[31m65.5 MB/s\u001b[0m eta \u001b[36m0:00:00\u001b[0m\n",
            "\u001b[?25hRequirement already satisfied: spacy<3.5.0,>=3.4.0 in /usr/local/lib/python3.8/dist-packages (from nl-core-news-sm==3.4.0) (3.4.4)\n",
            "Requirement already satisfied: catalogue<2.1.0,>=2.0.6 in /usr/local/lib/python3.8/dist-packages (from spacy<3.5.0,>=3.4.0->nl-core-news-sm==3.4.0) (2.0.8)\n",
            "Requirement already satisfied: pydantic!=1.8,!=1.8.1,<1.11.0,>=1.7.4 in /usr/local/lib/python3.8/dist-packages (from spacy<3.5.0,>=3.4.0->nl-core-news-sm==3.4.0) (1.10.4)\n",
            "Requirement already satisfied: jinja2 in /usr/local/lib/python3.8/dist-packages (from spacy<3.5.0,>=3.4.0->nl-core-news-sm==3.4.0) (2.11.3)\n",
            "Requirement already satisfied: srsly<3.0.0,>=2.4.3 in /usr/local/lib/python3.8/dist-packages (from spacy<3.5.0,>=3.4.0->nl-core-news-sm==3.4.0) (2.4.5)\n",
            "Requirement already satisfied: typer<0.8.0,>=0.3.0 in /usr/local/lib/python3.8/dist-packages (from spacy<3.5.0,>=3.4.0->nl-core-news-sm==3.4.0) (0.7.0)\n",
            "Requirement already satisfied: packaging>=20.0 in /usr/local/lib/python3.8/dist-packages (from spacy<3.5.0,>=3.4.0->nl-core-news-sm==3.4.0) (21.3)\n",
            "Requirement already satisfied: spacy-legacy<3.1.0,>=3.0.10 in /usr/local/lib/python3.8/dist-packages (from spacy<3.5.0,>=3.4.0->nl-core-news-sm==3.4.0) (3.0.11)\n",
            "Requirement already satisfied: setuptools in /usr/local/lib/python3.8/dist-packages (from spacy<3.5.0,>=3.4.0->nl-core-news-sm==3.4.0) (57.4.0)\n",
            "Requirement already satisfied: requests<3.0.0,>=2.13.0 in /usr/local/lib/python3.8/dist-packages (from spacy<3.5.0,>=3.4.0->nl-core-news-sm==3.4.0) (2.25.1)\n",
            "Requirement already satisfied: tqdm<5.0.0,>=4.38.0 in /usr/local/lib/python3.8/dist-packages (from spacy<3.5.0,>=3.4.0->nl-core-news-sm==3.4.0) (4.64.1)\n",
            "Requirement already satisfied: numpy>=1.15.0 in /usr/local/lib/python3.8/dist-packages (from spacy<3.5.0,>=3.4.0->nl-core-news-sm==3.4.0) (1.21.6)\n",
            "Requirement already satisfied: preshed<3.1.0,>=3.0.2 in /usr/local/lib/python3.8/dist-packages (from spacy<3.5.0,>=3.4.0->nl-core-news-sm==3.4.0) (3.0.8)\n",
            "Requirement already satisfied: thinc<8.2.0,>=8.1.0 in /usr/local/lib/python3.8/dist-packages (from spacy<3.5.0,>=3.4.0->nl-core-news-sm==3.4.0) (8.1.6)\n",
            "Requirement already satisfied: smart-open<7.0.0,>=5.2.1 in /usr/local/lib/python3.8/dist-packages (from spacy<3.5.0,>=3.4.0->nl-core-news-sm==3.4.0) (6.3.0)\n",
            "Requirement already satisfied: cymem<2.1.0,>=2.0.2 in /usr/local/lib/python3.8/dist-packages (from spacy<3.5.0,>=3.4.0->nl-core-news-sm==3.4.0) (2.0.7)\n",
            "Requirement already satisfied: langcodes<4.0.0,>=3.2.0 in /usr/local/lib/python3.8/dist-packages (from spacy<3.5.0,>=3.4.0->nl-core-news-sm==3.4.0) (3.3.0)\n",
            "Requirement already satisfied: pathy>=0.3.5 in /usr/local/lib/python3.8/dist-packages (from spacy<3.5.0,>=3.4.0->nl-core-news-sm==3.4.0) (0.10.1)\n",
            "Requirement already satisfied: spacy-loggers<2.0.0,>=1.0.0 in /usr/local/lib/python3.8/dist-packages (from spacy<3.5.0,>=3.4.0->nl-core-news-sm==3.4.0) (1.0.4)\n",
            "Requirement already satisfied: wasabi<1.1.0,>=0.9.1 in /usr/local/lib/python3.8/dist-packages (from spacy<3.5.0,>=3.4.0->nl-core-news-sm==3.4.0) (0.10.1)\n",
            "Requirement already satisfied: murmurhash<1.1.0,>=0.28.0 in /usr/local/lib/python3.8/dist-packages (from spacy<3.5.0,>=3.4.0->nl-core-news-sm==3.4.0) (1.0.9)\n",
            "Requirement already satisfied: pyparsing!=3.0.5,>=2.0.2 in /usr/local/lib/python3.8/dist-packages (from packaging>=20.0->spacy<3.5.0,>=3.4.0->nl-core-news-sm==3.4.0) (3.0.9)\n",
            "Requirement already satisfied: typing-extensions>=4.2.0 in /usr/local/lib/python3.8/dist-packages (from pydantic!=1.8,!=1.8.1,<1.11.0,>=1.7.4->spacy<3.5.0,>=3.4.0->nl-core-news-sm==3.4.0) (4.4.0)\n",
            "Requirement already satisfied: idna<3,>=2.5 in /usr/local/lib/python3.8/dist-packages (from requests<3.0.0,>=2.13.0->spacy<3.5.0,>=3.4.0->nl-core-news-sm==3.4.0) (2.10)\n",
            "Requirement already satisfied: certifi>=2017.4.17 in /usr/local/lib/python3.8/dist-packages (from requests<3.0.0,>=2.13.0->spacy<3.5.0,>=3.4.0->nl-core-news-sm==3.4.0) (2022.12.7)\n",
            "Requirement already satisfied: urllib3<1.27,>=1.21.1 in /usr/local/lib/python3.8/dist-packages (from requests<3.0.0,>=2.13.0->spacy<3.5.0,>=3.4.0->nl-core-news-sm==3.4.0) (1.24.3)\n",
            "Requirement already satisfied: chardet<5,>=3.0.2 in /usr/local/lib/python3.8/dist-packages (from requests<3.0.0,>=2.13.0->spacy<3.5.0,>=3.4.0->nl-core-news-sm==3.4.0) (4.0.0)\n",
            "Requirement already satisfied: confection<1.0.0,>=0.0.1 in /usr/local/lib/python3.8/dist-packages (from thinc<8.2.0,>=8.1.0->spacy<3.5.0,>=3.4.0->nl-core-news-sm==3.4.0) (0.0.3)\n",
            "Requirement already satisfied: blis<0.8.0,>=0.7.8 in /usr/local/lib/python3.8/dist-packages (from thinc<8.2.0,>=8.1.0->spacy<3.5.0,>=3.4.0->nl-core-news-sm==3.4.0) (0.7.9)\n",
            "Requirement already satisfied: click<9.0.0,>=7.1.1 in /usr/local/lib/python3.8/dist-packages (from typer<0.8.0,>=0.3.0->spacy<3.5.0,>=3.4.0->nl-core-news-sm==3.4.0) (7.1.2)\n",
            "Requirement already satisfied: MarkupSafe>=0.23 in /usr/local/lib/python3.8/dist-packages (from jinja2->spacy<3.5.0,>=3.4.0->nl-core-news-sm==3.4.0) (2.0.1)\n",
            "\u001b[38;5;2m✔ Download and installation successful\u001b[0m\n",
            "You can now load the package via spacy.load('nl_core_news_sm')\n"
          ]
        }
      ]
    },
    {
      "cell_type": "code",
      "execution_count": null,
      "metadata": {
        "colab": {
          "base_uri": "https://localhost:8080/"
        },
        "id": "Z8nxAtnfe_lt",
        "outputId": "ee709f69-8211-453f-fb98-4989157aa6e0"
      },
      "outputs": [
        {
          "output_type": "stream",
          "name": "stdout",
          "text": [
            "Mounted at /content/drive\n"
          ]
        }
      ],
      "source": [
        "from google.colab import drive\n",
        "drive.mount('/content/drive', force_remount=True)"
      ]
    },
    {
      "cell_type": "code",
      "source": [
        "import sys\n",
        "sys.path.append('/content/drive/My Drive/DTA/Internship/')"
      ],
      "metadata": {
        "id": "P8Er0FiJfe8j"
      },
      "execution_count": null,
      "outputs": []
    },
    {
      "cell_type": "code",
      "source": [
        "from process_for_baselines import process_data, test_classifier, remove_cols\n",
        "from ner_crfsuite import train_crf, flat_classification_report, SentenceGetter\n",
        "from transform_save_spacy import transform_save\n",
        "from sklearn.linear_model import PassiveAggressiveClassifier, SGDClassifier, Perceptron"
      ],
      "metadata": {
        "colab": {
          "base_uri": "https://localhost:8080/"
        },
        "id": "m3orHEhMfk_H",
        "outputId": "7c7bfe4d-fa52-4a99-874e-52ec73751541"
      },
      "execution_count": null,
      "outputs": [
        {
          "output_type": "stream",
          "name": "stderr",
          "text": [
            "/usr/local/lib/python3.8/dist-packages/torch/cuda/__init__.py:497: UserWarning: Can't initialize NVML\n",
            "  warnings.warn(\"Can't initialize NVML\")\n"
          ]
        }
      ]
    },
    {
      "cell_type": "markdown",
      "source": [
        "# BASELINES"
      ],
      "metadata": {
        "id": "YeAO-aHaUH4T"
      }
    },
    {
      "cell_type": "code",
      "source": [
        "# First make and save simple df from csv with extra columns (for middle dutch data, to remove unnecessary columns)\n",
        "# df = remove_cols(\"drive/MyDrive/DTA/Internship/TRAIN.tsv\")\n",
        "# df.to_csv(\"drive/MyDrive/DTA/Internship/TRAIN_updated.csv\", index=False)"
      ],
      "metadata": {
        "id": "896xHPXtXRN9"
      },
      "execution_count": null,
      "outputs": []
    },
    {
      "cell_type": "markdown",
      "source": [
        "### C14NL"
      ],
      "metadata": {
        "id": "7hymycPgcS_x"
      }
    },
    {
      "cell_type": "code",
      "source": [
        "_, classes, new_classes, X_train, X_test, y_train, y_test = process_data(\"drive/MyDrive/DTA/Internship/C14NL.csv\")\n",
        "test_classifier(X_train, y_train, X_test, y_test, classes, new_classes, PassiveAggressiveClassifier) "
      ],
      "metadata": {
        "colab": {
          "base_uri": "https://localhost:8080/"
        },
        "id": "H1rR4br9ShMw",
        "outputId": "af49bed5-6b65-4e1c-a0a7-b3f5745d8422"
      },
      "execution_count": null,
      "outputs": [
        {
          "output_type": "stream",
          "name": "stdout",
          "text": [
            "PassiveAggressiveClassifier(C=1.0, average=False, class_weight=None,\n",
            "                            early_stopping=False, fit_intercept=True,\n",
            "                            loss='hinge', max_iter=1000, n_iter_no_change=5,\n",
            "                            n_jobs=None, random_state=42, shuffle=True,\n",
            "                            tol=0.001, validation_fraction=0.1, verbose=0,\n",
            "                            warm_start=False)\n",
            "              precision    recall  f1-score   support\n",
            "\n",
            "      B-DATE       0.69      0.76      0.72        38\n",
            "       B-LOC       0.92      0.49      0.64        74\n",
            "     B-MONEY       0.39      0.33      0.36        27\n",
            "      B-PERS       0.89      0.71      0.79       214\n",
            "      I-DATE       0.61      0.14      0.22       139\n",
            "       I-LOC       0.73      0.38      0.50        21\n",
            "     I-MONEY       0.78      0.78      0.78        77\n",
            "      I-PERS       0.81      0.12      0.21       217\n",
            "\n",
            "   micro avg       0.80      0.42      0.55       807\n",
            "   macro avg       0.73      0.46      0.53       807\n",
            "weighted avg       0.78      0.42      0.50       807\n",
            "\n"
          ]
        }
      ]
    },
    {
      "cell_type": "code",
      "source": [
        "test_classifier(X_train, y_train, X_test, y_test, classes, new_classes, Perceptron, verbose=10, n_jobs=-1, max_iter=5) # arguments for the models go after the model name"
      ],
      "metadata": {
        "colab": {
          "base_uri": "https://localhost:8080/"
        },
        "id": "g31NnovCcZn0",
        "outputId": "92a037a7-9cc7-412e-bafb-df98226e23cc"
      },
      "execution_count": null,
      "outputs": [
        {
          "output_type": "stream",
          "name": "stdout",
          "text": [
            "Perceptron(alpha=0.0001, class_weight=None, early_stopping=False, eta0=1.0,\n",
            "           fit_intercept=True, max_iter=5, n_iter_no_change=5, n_jobs=-1,\n",
            "           penalty=None, random_state=42, shuffle=True, tol=0.001,\n",
            "           validation_fraction=0.1, verbose=10, warm_start=False)\n"
          ]
        },
        {
          "output_type": "stream",
          "name": "stderr",
          "text": [
            "[Parallel(n_jobs=-1)]: Using backend ThreadingBackend with 2 concurrent workers.\n"
          ]
        },
        {
          "output_type": "stream",
          "name": "stdout",
          "text": [
            "-- Epoch 1\n",
            "-- Epoch 1\n",
            "Norm: 23.96, NNZs: 263, Bias: -2.000000, T: 46668, Avg. loss: 0.006536\n",
            "Total training time: 0.55 seconds.\n",
            "Norm: 36.52, NNZs: 651, Bias: -3.000000, T: 46668, Avg. loss: 0.015150\n",
            "-- Epoch 1\n",
            "Total training time: 0.56 seconds.\n",
            "-- Epoch 1\n"
          ]
        },
        {
          "output_type": "stream",
          "name": "stderr",
          "text": [
            "[Parallel(n_jobs=-1)]: Done   1 tasks      | elapsed:    0.6s\n"
          ]
        },
        {
          "output_type": "stream",
          "name": "stdout",
          "text": [
            "Norm: 27.78, NNZs: 366, Bias: -3.000000, T: 46668, Avg. loss: 0.010435\n",
            "Total training time: 0.61 seconds.\n",
            "Norm: 54.86, NNZs: 1256, Bias: -2.000000, T: 46668, Avg. loss: 0.029935\n",
            "Total training time: 0.61 seconds.\n",
            "-- Epoch 1\n",
            "-- Epoch 1\n"
          ]
        },
        {
          "output_type": "stream",
          "name": "stderr",
          "text": [
            "[Parallel(n_jobs=-1)]: Done   4 tasks      | elapsed:    1.2s\n"
          ]
        },
        {
          "output_type": "stream",
          "name": "stdout",
          "text": [
            "Norm: 15.81, NNZs: 168, Bias: -3.000000, T: 46668, Avg. loss: 0.003428\n",
            "Total training time: 0.54 seconds.\n",
            "-- Epoch 1\n",
            "Norm: 41.04, NNZs: 908, Bias: -3.000000, T: 46668, Avg. loss: 0.052413\n",
            "Total training time: 0.58 seconds.\n",
            "-- Epoch 1\n",
            "Norm: 31.62, NNZs: 421, Bias: -3.000000, T: 46668, Avg. loss: 0.016285\n",
            "Total training time: 0.60 seconds.\n",
            "-- Epoch 1\n",
            "Norm: 55.24, NNZs: 1611, Bias: -4.000000, T: 46668, Avg. loss: 0.072812\n",
            "Total training time: 0.61 seconds.\n"
          ]
        },
        {
          "output_type": "stream",
          "name": "stderr",
          "text": [
            "[Parallel(n_jobs=-1)]: Done   7 out of   9 | elapsed:    2.3s remaining:    0.7s\n"
          ]
        },
        {
          "output_type": "stream",
          "name": "stdout",
          "text": [
            "Norm: 98.70, NNZs: 3785, Bias: 1.000000, T: 46668, Avg. loss: 0.165124\n",
            "Total training time: 0.59 seconds.\n"
          ]
        },
        {
          "output_type": "stream",
          "name": "stderr",
          "text": [
            "[Parallel(n_jobs=-1)]: Done   9 out of   9 | elapsed:    2.9s remaining:    0.0s\n",
            "[Parallel(n_jobs=-1)]: Done   9 out of   9 | elapsed:    2.9s finished\n"
          ]
        },
        {
          "output_type": "stream",
          "name": "stdout",
          "text": [
            "              precision    recall  f1-score   support\n",
            "\n",
            "      B-DATE       0.43      0.74      0.54        38\n",
            "       B-LOC       0.89      0.55      0.68        74\n",
            "     B-MONEY       0.44      0.52      0.47        27\n",
            "      B-PERS       0.91      0.73      0.81       214\n",
            "      I-DATE       0.50      0.19      0.28       139\n",
            "       I-LOC       0.86      0.29      0.43        21\n",
            "     I-MONEY       0.76      0.81      0.78        77\n",
            "      I-PERS       0.90      0.09      0.16       217\n",
            "\n",
            "   micro avg       0.74      0.44      0.55       807\n",
            "   macro avg       0.71      0.49      0.52       807\n",
            "weighted avg       0.78      0.44      0.50       807\n",
            "\n"
          ]
        }
      ]
    },
    {
      "cell_type": "markdown",
      "source": [
        "### TRAIN_updated"
      ],
      "metadata": {
        "id": "tbhmlSOacWF4"
      }
    },
    {
      "cell_type": "code",
      "source": [
        "_, classes, new_classes, X_train, X_test, y_train, y_test = process_data(\"drive/MyDrive/DTA/Internship/TRAIN_updated.csv\")\n",
        "test_classifier(X_train, y_train, X_test, y_test, classes, new_classes, PassiveAggressiveClassifier) "
      ],
      "metadata": {
        "colab": {
          "base_uri": "https://localhost:8080/"
        },
        "id": "lpRM0oivYxOj",
        "outputId": "206229ae-aabc-452e-cf69-89f2f37ed26d"
      },
      "execution_count": null,
      "outputs": [
        {
          "output_type": "stream",
          "name": "stdout",
          "text": [
            "PassiveAggressiveClassifier(C=1.0, average=False, class_weight=None,\n",
            "                            early_stopping=False, fit_intercept=True,\n",
            "                            loss='hinge', max_iter=1000, n_iter_no_change=5,\n",
            "                            n_jobs=None, random_state=42, shuffle=True,\n",
            "                            tol=0.001, validation_fraction=0.1, verbose=0,\n",
            "                            warm_start=False)\n",
            "              precision    recall  f1-score   support\n",
            "\n",
            "      B-DATE       0.60      0.38      0.46        32\n",
            "       B-LOC       0.90      0.53      0.67        53\n",
            "     B-MONEY       0.59      0.36      0.45        47\n",
            "      B-PERS       0.83      0.72      0.77       190\n",
            "      I-DATE       0.61      0.25      0.36       110\n",
            "       I-LOC       0.33      0.18      0.24        11\n",
            "     I-MONEY       0.87      0.66      0.75        68\n",
            "      I-PERS       0.80      0.24      0.37       153\n",
            "\n",
            "   micro avg       0.77      0.46      0.58       664\n",
            "   macro avg       0.69      0.42      0.51       664\n",
            "weighted avg       0.76      0.46      0.55       664\n",
            "\n"
          ]
        }
      ]
    },
    {
      "cell_type": "code",
      "source": [
        "test_classifier(X_train, y_train, X_test, y_test, classes, new_classes, Perceptron, verbose=10, n_jobs=-1, max_iter=5) "
      ],
      "metadata": {
        "colab": {
          "base_uri": "https://localhost:8080/"
        },
        "id": "-EGsLYtYcl4n",
        "outputId": "b58ffdd7-831a-4f82-8ef6-1293cfe3058f"
      },
      "execution_count": null,
      "outputs": [
        {
          "output_type": "stream",
          "name": "stdout",
          "text": [
            "Perceptron(alpha=0.0001, class_weight=None, early_stopping=False, eta0=1.0,\n",
            "           fit_intercept=True, max_iter=5, n_iter_no_change=5, n_jobs=-1,\n",
            "           penalty=None, random_state=42, shuffle=True, tol=0.001,\n",
            "           validation_fraction=0.1, verbose=10, warm_start=False)\n"
          ]
        },
        {
          "output_type": "stream",
          "name": "stderr",
          "text": [
            "[Parallel(n_jobs=-1)]: Using backend ThreadingBackend with 2 concurrent workers.\n"
          ]
        },
        {
          "output_type": "stream",
          "name": "stdout",
          "text": [
            "-- Epoch 1\n",
            "-- Epoch 1\n",
            "Norm: 21.95, NNZs: 219, Bias: -3.000000, T: 36235, Avg. loss: 0.007507\n",
            "Total training time: 0.50 seconds.\n",
            "-- Epoch 1\n",
            "Norm: 32.50, NNZs: 539, Bias: -2.000000, T: 36235, Avg. loss: 0.016089\n",
            "Total training time: 0.50 seconds.\n",
            "-- Epoch 1\n"
          ]
        },
        {
          "output_type": "stream",
          "name": "stderr",
          "text": [
            "[Parallel(n_jobs=-1)]: Done   1 tasks      | elapsed:    0.5s\n"
          ]
        },
        {
          "output_type": "stream",
          "name": "stdout",
          "text": [
            "Norm: 23.75, NNZs: 277, Bias: -3.000000, T: 36235, Avg. loss: 0.010266\n",
            "Total training time: 0.50 seconds.\n",
            "-- Epoch 1\n",
            "Norm: 49.72, NNZs: 1069, Bias: -1.000000, T: 36235, Avg. loss: 0.031654\n",
            "Total training time: 0.51 seconds.\n",
            "-- Epoch 1\n"
          ]
        },
        {
          "output_type": "stream",
          "name": "stderr",
          "text": [
            "[Parallel(n_jobs=-1)]: Done   4 tasks      | elapsed:    1.0s\n"
          ]
        },
        {
          "output_type": "stream",
          "name": "stdout",
          "text": [
            "Norm: 15.30, NNZs: 149, Bias: -3.000000, T: 36235, Avg. loss: 0.003808\n",
            "Total training time: 0.47 seconds.\n",
            "-- Epoch 1\n",
            "Norm: 36.72, NNZs: 765, Bias: -2.000000, T: 36235, Avg. loss: 0.054781\n",
            "Total training time: 0.50 seconds.\n",
            "-- Epoch 1\n",
            "Norm: 28.28, NNZs: 361, Bias: -3.000000, T: 36235, Avg. loss: 0.016862\n",
            "Total training time: 0.40 seconds.\n",
            "-- Epoch 1\n",
            "Norm: 49.58, NNZs: 1348, Bias: -2.000000, T: 36235, Avg. loss: 0.076390\n",
            "Total training time: 0.46 seconds.\n"
          ]
        },
        {
          "output_type": "stream",
          "name": "stderr",
          "text": [
            "[Parallel(n_jobs=-1)]: Done   7 out of   9 | elapsed:    1.9s remaining:    0.5s\n"
          ]
        },
        {
          "output_type": "stream",
          "name": "stdout",
          "text": [
            "Norm: 89.77, NNZs: 3186, Bias: 1.000000, T: 36235, Avg. loss: 0.170912\n",
            "Total training time: 0.44 seconds.\n"
          ]
        },
        {
          "output_type": "stream",
          "name": "stderr",
          "text": [
            "[Parallel(n_jobs=-1)]: Done   9 out of   9 | elapsed:    2.3s remaining:    0.0s\n",
            "[Parallel(n_jobs=-1)]: Done   9 out of   9 | elapsed:    2.3s finished\n"
          ]
        },
        {
          "output_type": "stream",
          "name": "stdout",
          "text": [
            "              precision    recall  f1-score   support\n",
            "\n",
            "      B-DATE       0.70      0.44      0.54        32\n",
            "       B-LOC       0.64      0.66      0.65        53\n",
            "     B-MONEY       0.55      0.38      0.45        47\n",
            "      B-PERS       0.71      0.75      0.73       190\n",
            "      I-DATE       0.49      0.35      0.41       110\n",
            "       I-LOC       0.50      0.09      0.15        11\n",
            "     I-MONEY       0.86      0.63      0.73        68\n",
            "      I-PERS       0.71      0.24      0.36       153\n",
            "\n",
            "   micro avg       0.67      0.50      0.57       664\n",
            "   macro avg       0.64      0.44      0.50       664\n",
            "weighted avg       0.67      0.50      0.55       664\n",
            "\n"
          ]
        }
      ]
    },
    {
      "cell_type": "markdown",
      "source": [
        "# CRFSUITE"
      ],
      "metadata": {
        "id": "T65W5W5WUD2o"
      }
    },
    {
      "cell_type": "code",
      "source": [
        "df, _, new_classes, _, _, _, _ = process_data(\"drive/MyDrive/DTA/Internship/C14NL.csv\")\n",
        "crf, X_train, X_test, y_train, y_test = train_crf(df)\n",
        "y_pred = crf.predict(X_test)\n",
        "print(flat_classification_report(y_test, y_pred, labels = new_classes))"
      ],
      "metadata": {
        "colab": {
          "base_uri": "https://localhost:8080/"
        },
        "id": "XpcWqZnOfw5b",
        "outputId": "88ef71aa-282b-48b8-fd16-79168dfdd427"
      },
      "execution_count": null,
      "outputs": [
        {
          "output_type": "stream",
          "name": "stdout",
          "text": [
            "              precision    recall  f1-score   support\n",
            "\n",
            "      B-DATE       0.87      0.86      0.87       129\n",
            "       B-LOC       0.89      0.78      0.83       235\n",
            "     B-MONEY       0.84      0.83      0.84       119\n",
            "      B-PERS       0.94      0.82      0.88       679\n",
            "      I-DATE       0.96      0.90      0.93       488\n",
            "       I-LOC       0.90      0.61      0.73        44\n",
            "     I-MONEY       0.84      0.86      0.85       330\n",
            "      I-PERS       0.93      0.84      0.88       604\n",
            "\n",
            "   micro avg       0.91      0.84      0.88      2628\n",
            "   macro avg       0.90      0.81      0.85      2628\n",
            "weighted avg       0.92      0.84      0.88      2628\n",
            "\n"
          ]
        }
      ]
    },
    {
      "cell_type": "code",
      "source": [
        "df, _, new_classes, _, _, _, _ = process_data(\"drive/MyDrive/DTA/Internship/TRAIN_updated.csv\")\n",
        "crf, X_train, X_test, y_train, y_test = train_crf(df)\n",
        "y_pred = crf.predict(X_test)\n",
        "print(flat_classification_report(y_test, y_pred, labels = new_classes))"
      ],
      "metadata": {
        "colab": {
          "base_uri": "https://localhost:8080/"
        },
        "id": "qpeSXiwKc72_",
        "outputId": "56eeef26-0913-47ad-f3f2-176c09ddb255"
      },
      "execution_count": null,
      "outputs": [
        {
          "output_type": "stream",
          "name": "stdout",
          "text": [
            "              precision    recall  f1-score   support\n",
            "\n",
            "      B-DATE       0.92      0.83      0.87       105\n",
            "       B-LOC       0.89      0.78      0.83       179\n",
            "     B-MONEY       0.81      0.84      0.82        97\n",
            "      B-PERS       0.91      0.85      0.88       497\n",
            "      I-DATE       0.97      0.93      0.95       364\n",
            "       I-LOC       0.73      0.68      0.70        28\n",
            "     I-MONEY       0.86      0.86      0.86       257\n",
            "      I-PERS       0.87      0.86      0.87       477\n",
            "\n",
            "   micro avg       0.90      0.86      0.88      2004\n",
            "   macro avg       0.87      0.83      0.85      2004\n",
            "weighted avg       0.90      0.86      0.88      2004\n",
            "\n"
          ]
        }
      ]
    },
    {
      "cell_type": "markdown",
      "source": [
        "# TRANSFORM SAVE SPACY"
      ],
      "metadata": {
        "id": "UieRjOpxfOL6"
      }
    },
    {
      "cell_type": "code",
      "source": [
        "doc_bin = transform_save(\"drive/MyDrive/DTA/Internship/C14NL.csv\")\n",
        "doc_bin.to_disk(\"drive/MyDrive/DTA/Internship/C14NL_training\" + \".spacy\")"
      ],
      "metadata": {
        "colab": {
          "base_uri": "https://localhost:8080/"
        },
        "id": "wLQlRrE7fRYV",
        "outputId": "54ed981a-e5f2-4ef5-ec6b-c0da726b8ba0"
      },
      "execution_count": null,
      "outputs": [
        {
          "output_type": "stream",
          "name": "stderr",
          "text": [
            " 19%|█▉        | 30/155 [00:00<00:00, 148.20it/s]"
          ]
        },
        {
          "output_type": "stream",
          "name": "stdout",
          "text": [
            "[ij, sc, par, vi, d, i, d, boidin, keyacke, duseb, mccc, et, xxxiij, sdonresdaechs, na, zentelucien, dach]\n",
            "[lambrecht, de, bere, johan, van, breinen, stacin, de, vos, clais, cruke, pieter, stacin, messine, zuutscoten, noorscoten, fransois, croeselin, ypre, masine, van, den, walle, ypre, noorscoten, poesele, fransois, croeselins, johans, waghenaers, calewaert, fransois, croeselins, noorscoten, fransois, croselins, stacin, hein, sons, fansois, croeselins, johans, baens, tiene, scellinghe, en, zeuen, pene, par, messine, ypre, sense, braems, jan, lauwers, franse, buulscamps, johan, lauwers, zeuentiene, scellinghe, en, zesse, pene, par, sjaers, messine, fransois, croeselin, masine, van, den, walle, viere, scelinghe, en, tiene, pene, pars, kerstiaen, vels, masin, van, denwalle, frasois, croeseline, mccc, achte, en, vichtich, up, den, viere, en, twintichsten, dach, van, maerte]\n",
            "[piet, hauweel, hughe, de, broukere, ypschen, cateline, spuids, willems, van, kemle, jhan, van, scoten, jacop, van, thoround, yp, vlaendren, ypschen, dickebusch, jehan, lauwerins, catelinen, catelinen, spintz, sinte, baufs, messe, viere, en, dertich, scellinghe, par, ste, jhans, messe, mids, zomers, sinte, baufs, messe, cateline, mccc, zuene, en, zeiuentich, den, vjsten, dach, van, marte]\n",
            "[kateline, van, valessine, janne, den, rauen, yden, drie, pont, paris, en, twalef, scellinghe, pis, tons, vrouwen, daghe, lichtmesse, kateline, iij, scellinghe, paris, jan, derauen, bramackere, ix, peninghen, kateline, kateline, drie, pont, paris, en, twalef, scellinghe, kateline, kateline, boydin, van, eelne, colards, vander, fonteneelen, oudenh, jan, gillis, vander, nuwerpoerd, willem, de, coruere, pieter, vander, stichlen, jan, vander, nuwpoerd, dertienhondert, en, viue, en, zestich, in, sente, mathijs, daghe, in, sporcle, oudenh]\n",
            "[jacop, van, den, wue, roegier, buuc, jehan, martin, jehan, de, puut, lambt, queke, yppersschen, martin, van, zinnebeke, jehan, van, oest, kerstine, dickebusch, vlaendre, yppersschen, dickebusch, jehans, van, oost, jehan, pradels, wouts, van, den, walle, willems, van, den, hille, yppsschen, m, ccc, achte, en, dartich, suridaghs, vor, vastenauent]\n",
            "[stasin, de, vos, johan, van, brenen, clais, cruke, pauwels, de, hane, johan, biese, messine, nortscoten, zuutscoten, johan, de, bleyere, ysabelen, van, kerky, messine, jaken, johans, lizebetten, zeuene, en, dertich, scellinghe, en, achten, peninghe, parisise, dypre, poesele, johan, de, bets, poesele, zewen, scellinghe, en, zes, peninghe, par, willem, perboom, twalef, scellinghe, en, achte, peninghe, par, willem, oostbrouc, sinte, jans, van, terenbuerech, johan, perboom, vijf, scellinghe, par, oostbrouc, poesele, snouc, langors, lammin, michyelszons, pauwelin, de, parmentier, twalef, scellinghe, en, zes, peninghe, par, jake, johans, lizebette, johanne, ysabele, van, kerky, ysabelen, van, kerky, medewintre, dusentich, drie, hondert, twe, en, zestich, vp, den, zeuensten, dach, van, hoymaent]\n",
            "[velzeke, gillis, maelcamp, lijsbetten, sbrunen, gheraerds, neghene, scellinghe, parisise, sente, martijns, messe, kerstdaghe, neghen, scellinghe, par, lijsbette, gillise, lijsbette, voernoemde, neghen, scellinghe, gillise, gillis, gillis, twee, scellinghe, par, dertienhondert, neghene, ende, viftich, den, neghentienden, dach, van, laumaende]\n",
            "[zotteghem, pieter, borse, zeghelsem, janne, boterdalen, magrieten, drie, pont, par, sente, jans, messe, midden, zomer, drie, pont, par, jan, magriet, pieteren, sente, gorix, oudenhoue, scriuersvelt, sbruuns, jan, magriet, pieteren, pieter, jan, magriet, pieteren, dertienhondert, ende, drie, ende, zestich, den, zesten, dach, van, hoymaende]\n",
            "[kateline, jane, van, zeghelsem, zeghelsem, onser, vrauwen, audenaerde, l, sc, paris, kersauonde, sente, marie, lichtmesse, l, sc, par, xxx, sc, par, joes, smeeds, xx, sc, par, xxx, sc, par, neckers, driesch, claus, smeeds, ros, zeghelsem, lobis, l, sc, par, kateline, jane, vanzeghelsem, marie, caboets, onser, vrauwe, audenaerde, scoersse, marie, caboets, ghiselbrecht, de, meyere, willem, heere, gillis, van, den, keye, gillis, de, vlaminc, gillis, screuel, mccc, en, l, jn, sente, pieters, daghe, jn, sporcle]\n",
            "[jan, van, materne, lieuin, cracht, arent, van, den, vergiere, pamele, pamele, robbrechte, van, scoersse, pamele, jans, staercmans, jans, breins, robbrecht, xj, lib, parisise, vlaendscher, muten, xj, lib, par, vlaendscher, muten, sente, jans, daghe, midden, zome, xiij, en, xc, audenaerde, pamele, robbrecht, pamele, fransois, crupeninc, oliuier, van, huerne, jan, van, peelkem, coelaert, lodemare, audenaerde, piet, van, der, linden, lanseloet, va, maerke, lodewijc, va, maerke, jan, de, bouve, pamele, xiij, en, lxxxix, de, xxiijsten, dach, van, septembre]\n",
            "[lambt, queke, jacop, van, den, werue, jehan, de, puut, jehan, hauweel, daneel, van, dentringheem, yppsschen, diederijc, hamelin, jehan, van, zantvorde, van, den, heechoute, oliuier, den, duerewardere, vlaendre, yppsschen, zantvorde, oliuiers, duerewarders, zantvorde, vlaendre, yppsschen, der, pawinnen, hofsteide, simons, van, scoten, jehan, plateels, yppsschen, viertich, scellinghe, par, m, ccc, een, en, viertich, saterdaghs, van, sinte, luux, dach]\n",
            "[velzeke, jan, gheraerds, van, botelaer, cateline, jans, van, eeke, neghen, scellinghe, parisise, kersauonde, neghen, scellinghe, parisise, jan, cateline, jans, van, eeke, bueseghem, jan, cateline, kersauonde, neghen, scellinghe, par, jans, van, eeke, jans, van, eeke, dertienhondert, viue, ende, vijftich, te, half, sporcle]\n",
            "[joris, van, derbeike, jacob, v, den, wereue, gh, de, puud, clsz, ysemb, will, de, hanscoend, yperschen, kerstine, ghelins, henric, herleboud, margriete, vlamertinghe, vlaendre, beatrise, balch, margriete, herlebouds, kerstiins, ypersche, m, ccc, neghene, ende, twintech, den, tienten, dach, jngaende, van, sporkele]\n",
            "[jacob, ypre, ypre, xlij, lib, x, sc, xlij, lib, x, sc, paesche, jacob, mcccxcj, vp, den, heersten, dach, van, apl]\n",
            "[jan, vanden, dorpe, arents, ogiere, callen, van, polanen, viij, lb, gro, torn, vlaemscher, munten, vj, sc, gro, ogiere, jan, ogier, jans, van, den, dorpe, jans, ogier, lx, lb, paris, janne, vlaendre, auden, ogiere, jan, van, den, dorpe, jan, van, der, mee, lodewijc, van, den, hecke, auden, m, cccxcvj, den, ix, sten, dach, jn, nouember]\n",
            "[kateline, jane, van, zeghelsem, sente, cornillis, hoerenbeke, onser, vrauwen, audenaerde, xv, sc, paris, kersauonde, sente, marienlichtmesse, xv, sc, par, gheeroutsdale, sente, cornillis, hoerenbeke, janne, van, der, muelen, raes, scietkats, marie, willems, smespeleere, gillis, moenins, xv, sc, par, kateline, jane, van, zeghelsem, marie, caboets, ons, vrauwen, audenaerde, scoersse, marie, jans, van, der, muelen, wouter, moerge, jan, vinouters, steuin, de, smet, jan, de, poerte, jan, nuetin, steuin, van, den, opstalle, mccc, en, l, jn, sente, pietersdaghe, jn, sporcle, xv, sc, par, zeghelsem, xv, sc, par]\n",
            "[zotteghem, annees, van, oudaghe, jane, van, reehaghe, jans, svlieghers, zuttert, coppin, willin, mets, jan, viue, ende, twintich, penninghen, ende, eenen, hallijnc, jan, annees, zotteghem, dusentich, driehondert, ende, viere, ende, seuentich, sdondersdaghes, naer, sente, baefs, dach]\n",
            "[loy, van, den, bossche, audenaerde, sente, lijsbetten, xij, lb, paris, audenaerde, loy, gode, sente, marien, sente, lijsbetten, gods, gode, fransen, van, der, beke, doernike, gode, eynpoerten, steuins, van, ghend, verghinen, zwaters, vj, sc, paris, audenaerde, loy, jans, van, coyen, meynaerde, frans, van, den, bossche, pieters, seys, loye, sente, lijsbetten, god, loy, twee, schelle, paris, loy, gods, loy, loye, loy, loy, clais, van, gothe, boruelt, clais, jan, van, der, meere, lodewic, van, den, hecke, jan, van, der, heyden, arend, van, maerke, audenaerde, dusentich, drieondert, ende, achte, en, neghentich, den, ellefsten, dach, in, hoymaent]\n",
            "[velzeke, jacop, van, d, erloe, arnoude, den, quaedsten, vier, schellinghe, par, kersthauonde, velzeke, vier, schellinghe, paris, arnoud, jacoppe, buseghe, arnoud, jacoppe, jacop, twee, schellinghe, par, jacoppe, dertienhondert, viertich, en, drie, tsaterdaechs, na, onser, vwen, dach, jn, den, maerte]\n",
            "[zotteghem, lambrecht, brandijn, ysendike, janne, den, smet, van, den, bossche, van, den, eeckoute, viere, ende, twintich, scellinghe, par, kerssauonde, onser, vrouwen, daghe, ter, lichtmessen, viere, ende, twintich, scellinghe, par, jan, lambrechte, ghiiskens, jan, braemboschs, zigghers, metten, jan, lambrechte, lambrecht, viere, scellinghe, par, dertienhondert, ende, drie, ende, zestich, den, tienden, dach, van, meye]\n",
            "[jehane, van, der, mersch, jacop, crops, pietren, van, huerne, michiels, willem, den, zeluersmet, v, lb, groeten, tornoise, jehane, jehane, vij, lb, gro, tornoise, mute, iehane, arnoud, hoene, goessine, cabeliouwe, audenaerde, mccc, ende, lxviij, den, vij, sten, dach, in, septembre]\n",
            "[lisebette, van, tielt, gode, ypre, ypre, lisebette, van, ruseleide, drie, lb, par, onser, soeter, vrauwedach, maerte, lisebette, mccc, ende, neighentich]\n",
            "[sottenghem, piet, de, rouc, ten, guchte, sente, gorics, oudenhouen, piets, twalef, schelinghe, paris, janne, michiels, twalef, schellinghe, piet, janne, sente, martins, messe, kerstauonde, kerstsauont, jan, jan, piet, jans, dusentech, drijehondert, en, dertech, sondaghes, vore, paelmsondach]\n",
            "[zeghere, vanerleghem, piet, onser, vuwen, auden, teyne, toudebunre, teynamme, eremersch, beke, nuenhoue, zeghers, v, sc, eynamme, zeghers, xl, ponden, xl, lb, zegher, van, erleghem, piet, zeghe, van, lancacke, dierken, de, clerc, zeghe, van, erleghem, pieter, mccc, e, ix, talreheleghermesse]\n",
            "[pauwels, van, detome, clays, stalin, willem, alnaect, michiel, van, de, berghe, danin, de, vos, eluerdinghe, vlaemertinghe, nicasis, de, vroede, jehan, van, de, clite, lambrecht, voets, lotin, balghe, vlamtinghe, vlaendre, lotin, lotin, mccc, ende, drie, ende, dertech, den, twellefsten, dagh, van, spoerkele]\n",
            "[lisebette, gode, ypre, ypre, kateline, steikeraeps, zes, lb, par, xvste, dach, jn, lauwe, kateline, steikeraeps, mccc, achtetach, en, eleiuene]\n",
            "[jnghel, van, erleghem, jacop, van, den, boengaerde, audenaerde, jnglen, van, maerke, onser, vrouwen, audenaerde, tiene, scellinghe, gro, torn, vlaemscher, muten, kateline, dierlay, crupeninghe, steen, van, jnghelant, x, sc, gro, den, vierden, dach, jn, hoymaent, jnt, jaer, m, ccc, neghene, en, neghentich]\n",
            "[sente, marien, oudenhoue, heinric, vt, cokenen, aechte, woutren, van, aedeghe, achte, pont, paris, achte, pont, woutre, heinricke, aechten, gucht, velt, wout, sente, martins, messe, heinricke, sente, jhannes, messe, middezoeme, woutre, heinric, viere, schellinghe, paris, heinric, aechte, jhanne, heinricke, aechten, jhanne, dusentech, drije, hondert, en, viue, ende, dertech, sdinsendaghes, vore, ascensioens, dach]\n",
            "[loy, van, den, bossche, audenaerde, sente, lijsbetten, xij, lb, paris, audenaerde, loy, sente, marien, sente, lijsbetten, gods, gode, fransen, van, der, beke, doernike, gode, eynpoerten, steuins, van, ghend, verghinen, zwaters, vj, schelle, paris, audenaerde, loy, jans, van, coyen, meynaerde, franssoys, van, den, bossche, pieter, seys, loye, sente, lijsbetten, god, loy, twee, schelle, paris, loy, loy, loye, loy, loy, clais, van, gothem, boruelt, auden, clais, jan, van, der, meere, lodewic, van, den, hecke, jan, van, der, heyden, arend, van, maerke, audenaerde, dusentich, drieondert, ende, achte, en, neghentich, den, ellefsten, dach, in, hoymaent]\n",
            "[jehane, sbonten, jan, perrekins, jane, pont, jane, den, smet, pamele, v, lb, par, vlaenderscher, munten, tons, vuwen, daghe, lichtmesse, sentejans, messe, midden, some, jehane, pamele, jan, breyns, jan, pont, jan, de, smet, jehane, v, lb, par, ons, vuwen, daghe, lichtmesse, v, lb, par, pamele, pamele, pamele, xxx, sc, par, pamele, jehane, v, lb, par, xx, sc, par, jehanen, pamele, piet, van, rokigh, jan, van, erligh, piet, de, bleeke, piet, alloese, audenarde, m, ccc, lxv, in, octob]\n",
            "[zottenghem, gheraerd, de, ruddere, willeme, van, coudenberghe, kerstauonde, gheraerd, willeme, gheraerd, willeme, willem, gheraerd, dertienhondert, viere, ende, vijftich, den, achtesten, dach, van, meye, ten, jngaene]\n",
            "[kateline, jane, van, zeghelsem, zeghelsem, onser, vrauwen, audenaerde, xv, sc, par, kersauonde, sente, marien, lichtmesse, her, mijns, zeghelsem, lobis, kateline, jane, van, zeghelsem, marie, caboets, ons, vrauwe, audenaerde, scoersse, marie, marie, willems, smespeleen, gillis, moenins, zeghelsem, ghiselbrecht, de, meyere, jan, vinouter, willem, hee, gillis, van, den, keye, gillis, de, vlaminc, jan, de, weer, gillis, screuel, mccc, en, viiftech, jn, sente, pieters, daghe, jn, sporcle, xv, sc, par, sente, cornillis, hoerenbeke, xv, sc, parisise]\n"
          ]
        },
        {
          "output_type": "stream",
          "name": "stderr",
          "text": [
            " 46%|████▌     | 71/155 [00:00<00:00, 183.38it/s]"
          ]
        },
        {
          "output_type": "stream",
          "name": "stdout",
          "text": [
            "[audenarde, vlaendren, audenarde, pamele, audenarde, pamele, auden, twintech, scellinghe, par, xiiij, nachten, tiene, scell, par, tiene, scell, par, vijf, scell, par, tiene, scell, par, vijf, scell, paris, viere, ponden, paris, tiene, scell, par, twinthech, scell, par, auden, pamele, twintech, scell, par, vijf, scell, par, audenarde, pamele, twintech, scell, par, vijf, scell, par, vijf, scell, par, twintech, scell, par, vijf, scell, paris, tiene, scell, par, twee, scell, par, twintech, scell, paris, twinthech, scell, par, twintech, scell, paris, audenarde, pamele, onser, vrouwen, daghe, lichtmesse, audenarde, pamele, den, zestiensten, dach, van, decembre, jnt, jaer, ons, heen, dusentich, drie, ondert, viere, ende, tsestich]\n",
            "[pieter, wittebroot, goessarde, den, bloten, janen, skeysers, pamele, baerstrate, damme, arend, cabelious, grielen, osts, xij, sc, paris, andries, skeysers, piet, gossarde, janen, xli, sc, iij, d, paris, vlaemscher, munte, iij, lb, xij, s, par, of, munte, aprulle, piet, xxiiij, lb, paris, goessaerd, jane, piet, audenarde, arend, dekuekelier, goessaerde, den, bloten, joncfr, janen, xli, sc, iij, d, paris, goessard, jane, arend, den, kuekelier, audenaerde, lodewijc, van, den, hecke, jan, van, der, heyden, arend, va, marke, audende, m, ccc, zesse, en, neghentich, den, xxij, ste, dach, jn, nouembre]\n",
            "[zottenghem, jan, vander, hoeuen, lieuine, den, costere, sente, goerics, ondennouen, twalef, scellinghe, paris, kerstauonde, twalef, scellinghe, paris, lieuin, janne, lieuijn, twalef, scellinghe, paris, janne, jan, gheraerde, jans, gheraerd, dertienhondert, liii, sdonredaghes, voer, der, heilegher, crucen, dach, jn, spelmaende]\n",
            "[zeghere, vanerleghem, piet, onser, vuwen, auden, teyne, mersch, toudebunre, teynamme, eremersch, beke, nuenhoue, zeghers, v, sc, eynamme, v, sc, zeghers, xl, ponden, xl, lb, zegher, van, erleghem, piet, zeghe, van, lancacke, dierken, de, clerc, zeghe, van, erleghem, pieter, mccc, e, ix, talreheleghermesse]\n",
            "[cateline, hoofts, harssebrouc, ypre, marie, rueps, tien, ponden, parisisen, sinte, jansmesse, midden, somers, katelinen, rueps, mccc, zesse, en, neghentich, vpten, derdichsten, dach, van, wedemaent]\n",
            "[zotteghem, bertelmeeuus, zoete, lieuine, van, tsalons, lieuins, van, oudenaerde, hankerbosch, willems, neckers, lieuin, velzeke, lieuin, bertelmeeus, zotteghem, dusentech, driehondert, ende, achte, ende, zestech, jn, sente, jans, daghe, ewangelists, naer, kerst, dach]\n",
            "[jan, van, den, keye, vinhouters, seghelsem, audenarde, iij, lb, parisise, xxx, sc, par, kersauonde, sente, marie, lichtmesse, kersauonde, xxx, sc, par, sente, ians, messe, midden, somere, sente, pieters, daghe, oust, iij, lb, par, xxx, sc, par, kersauonde, daniels, van, den, eechoute, ians, van, den, eechoute, seghelsem, eechoute, lobis, jan, van, den, eechoute, xxx, sc, par, kersauonde, xxx, sc, par, sente, ians, messe, midden, somere, arnout, van, waelbosch, marie, ian, cnebiers, xxx, sc, par, sente, jans, messe, midden, somere, lobis, ian, van, den, keye, vinhouters, marie, cabboets, onser, vrouwen, auden, marie, cabboets, marie, cabboets, scoeresse, ghiselbrechte, den, meyere, willeme, heere, daniel, de, neve, gillis, van, den, keye, gillis, screuel, wille, van, torout, daniel, baraet, jan, de, weer, seghelsem, mccc, en, xlix, sfriendachs, nar, sente, niclaus, daghe]\n",
            "[johan, covent, johan, heneman, clais, de, rudder, pieter, waloys, willem, woytin, meessine, nortscoten, zuutscoten, jacob, pierin, ysabelen, van, kerky, meessine, jaken, van, den, walle, boesinghe, lizebetten, dertyen, scele, en, vier, pene, par, nortscoten, dypre, pieter, den, cupre, johan, everaerts, johan, lams, coppins, van, lo, johan, clais, everarts, sone, twe, scelle, en, zes, peneghe, par, johan, clais, everarts, soens, fence, boyts, clais, everaerts, jake, lizebette, jacob, pierine, ysabelen, van, kerky, ysabelen, medewintre, m, ccc, viere, en, zestich]\n",
            "[jacob, van, thoroud, jan, van, den, hogheweghe, brucghe, bertelmeeus, walrijc, ypre, michiele, hallen, viere, ponden, ende, achte, sceleghen, groter, torn, ypersschen, pieter, maertinis, de, fousee, bourgis, spaengen, bertelmeeuws, walrijc, bertelmeeus, viere, ponden, ende, achte, sceleghen, groter, torn, bertelmeeus, walrijc, michiel, hallen, pietren, maertinis, de, fousee, mccc, zesse, ende, tseuentich, vpten, neghen, en, twintichsten, dach, van, october]\n",
            "[mathijs, van, der, kauchieren, lijsbetten, teikins, pietren, van, dendermonde, callen, teikins, kerstiaen, teikins, claren, van, der, scelden, peperstrate, hents, straetkine, v, sc, par, audende, xl, sc, par, mathijs, lijsbetten, callen, xl, sc, par, kersauonde, mcccc, kersauonde, mathijs, xiij, lb, par, mathijs, peperstrate, xl, s, par, lijsbetten, callen, lijsbette, pietn, callen, mathijs, lijsbetten, callen, xl, s, par, xl, sc, par, franss, crupenninc, franss, van, der, crayen, jan, jacops, audende, xiijciiijxx, en, xix, den, xxviijste, dach, van, septembre]\n",
            "[jan, van, warighem, lieuaert, crachte, arend, van, den, vergiere, kerstiaen, lieuins, pamele, baerporte, jan, ghelewaerts, jan, nokermans, jan, heergods, jans, van, d, meere, pamele, janne, kerssauonde, jnt, jaer, xiijcxciiij, kerssauonde, jnt, jaer, xiijc, xcv, jan, audende, jan, van, d, meere, jan, van, d, crayen, jan, van, d, muelen, audende, mccc, viere, ende, neghentich, den, xxv, ste, dach, in, nouembre]\n",
            "[jan, de, muldere, gheeraert, de, muldere, sanderse, van, der, haghe, doernike, sente, jacops, prochie, rupiqueet, steuenaerts, van, der, ruwen, sanders, jan, gheeraert, sanderse, jan, gher, gheers, jane, gheerarde, gheers, sanderse, jan, gheer, sandse, twee, warf, hondert, schellinghe, hondert, schellinghen, par, arent, blancstrein, paemle, pieter, van, der, linden, jacop, lodins, heinric, de, voghelleere, paemle, xviijsten, dach, van, oustmaent, xiijc, iiijxx, en, zeuene]\n",
            "[mccc, e, sestiene, sderdags, binnen, sporkle, ten, hutegane, magr, van, denhueuernhus, onser, vrauwen, auden, van, axele, vlandre, magr, arn, gommar, auden, oliuier, pullem, axele, henric, gommar, jan, huten, brouke, jan, ameide, jan, de, busere, axele]\n",
            "[sottenghem, jan, de, brakelare, sente, gorics, oudenhoue, gosine, van, d, swalmen, sente, martijns, messe, kersthauonde, sottenghe, gosijn, jan, zesse, en, twintich, schellinghe, par, jan, de, brakelare, gosine, willem, tants, jan, zesse, en, twintich, schellinghe, par, gosine, gosijn, dertienhondert, neghen, en, viertich, tsondaechs, na, sentecatelinen, dach]\n",
            "[lisebette, gode, typre, ypre, kateline, smisen, xxiiij, lb, par, xvsten, dach, va, lau, maent, kateline, mccc, iiijxx, en, xix, den, xvsten, dach, van, lau, maent]\n",
            "[lisebette, gode, typre, ypre, marie, belles, ix, lb, par, eerste, dach, van, october, marie, m, ccc, iiijxx, en, twelleue]\n",
            "[henric, helebeque, michiel, queke, maes, coppin, joos, van, dentrighe, jhan, droom, ypperschen, brixis, de, vos, typpre, jhanne, broederlam, kerstine, vlaendren, yppschen, sinte, jacops, zinnebeicstrate, lamsins, crenys, joris, murgaleids, jans, vroeden, jhans, vroeden, willems, van, paskendale, ypperschen, m, ccc, iiijxx, ende, tiene, den, xvjsten, dach, jn, septembre]\n",
            "[gheeraert, raephoeft, gods, nees, fuex, vranx, taudenaerde, een, pont, gro, pamele, gheeraerts, jan, vranx, gheer, rine, gheeraerts, gheer, gheer, gheer, gheer, gheer, eename, zesse, ponde, par, iiij, lib, par, xxiii, sc, par, xxiiij, sc, par, gheer, pamele, xx, sc, par, snellaerts, mergriete, gheeraerts, mergriete, xv, sc, par, baeniaerts, scoeresse, matne, tolfaerts, viij, sc, par, jans, va, den, dale, van, kaniant, tscoersse, pamele, vj, sc, par, iiij, sc, par, iij, sc, par, iiij, sc, par, gheer, gheer, onser, vrauwe, pamele, xx, sc, par, jans, van, hoelant, pamele, gheer, gheer, pamele, vj, sc, par, gheer, vj, lib, par, ix, lib, par, xxx, sc, par, sente, martinsmesse, xij, sc, par, xxiiij, sc, par, gheer, grielkine, xviij, lib, par, gheer, boidine, arekine, dreete, iij, sc, gro, gheenine, vj, sc, gro, gheer, arent, cabeliau, f, mer, jans, fransois, crupeninc, lodewijc, vande, hecke, audenaerde, xiijc, en, xcij, den, xxviijsten, dach, van, septembre]\n",
            "[france, slingher, wout, va, den, pitte, ypre, viere, scell, paris, nasareth, iij, sc, par, sinte, bamesse, piet, de, nay, jhan, va, paskendale, jacoppe, va, der, cruce, ypre, pietren, jhanne, m, ccc, iiiixx, en, zestiene, des, maendaghes, jn, de, paesschedaghe, derde, dach, jn, april]\n",
            "[beatrice, van, der, asselt, onser, vrouwen, audenaerde, pietre, den, cupre, audenaerde, sente, amants, capelle, wouter, van, der, haghe, kersauonde, dertienhondert, twe, en, zestich, drie, pont, paris, kersauonde, dusentech, driehondert, drie, en, zestech, sente, jansmesse, piet, tiene, pont, gro, tiene, pont, gro, piet, pietre, piet, dusentech, driehondert, een, ende, zestech, lxiij, de, xxvijste, dach, va, hoeymaent]\n",
            "[jan, van, d, haghe, wauts, van, der, haghe, marie, van, auteghem, jan, marie, marie, auden, marie, jan, jan, auden, jane, marie, janne, marien, jane, marie, jan, marie, jans, marien, jan, marie, janne, marien, jan, marie, jane, marien, iijc, lb, par, vlaendscher, munte, janne, marie, jane, marien, auden, jan, marie, audende, jan, de, busschere, jan, van, heestert, audende, xvj, sten, dach, van, laumaet, mccc, en, lxxxvj]\n",
            "[magriete, van, rume, anes, van, musebrouc, michiele, barlebane, xxxvi, sc, paris, kersauonde, anes, magriete, van, rume, steuen, den, bartmacre, petenghe, jhan, bonen, piet, van, heilebrouc, gherard, den, parmentier, jhan, mo, renghe, oudenarde, beats, ouden, maes, vancaleberghe, jhan, nose, hannek, moenard, touden, mccc, e, viue, jn, meie]\n",
            "[gillis, van, waes, janne, van, cnoetighem, jan, paemle, baerstrate, michiels, sriken, anneesen, iiij, lb, iiij, sc, par, vlaendscher, munten, janne, iiij, sc, vj, d, par, jans, iiij, lb, iiij, sc, par, jan, van, cnoetighem, gillis, van, waes, jan, gillise, audende, paemle, gillis, van, waes, michiels, sriken, anneesen, iiij, lb, iiij, sc, par, gillis, audende, paemle, audende, beuer, gillis, jans, van, cnoetighems, oliuier, van, huerne, jnghel, van, erleghem, collaert, lodemaer, audende, xijste, dach, van, nouembre, mccc, iiijxx, ende, neghenne]\n",
            "[beatrice, van, der, asselt, onser, vrouwen, audenaerde, pietre, den, cupre, audenaerde, sente, amants, capelle, wouter, van, der, haghe, kersauonde, dertienhondert, twe, en, zestich, drie, pont, paris, kersauonde, dusentech, driehondert, drie, en, zestech, sente, jansmesse, piet, piet, pietre, piet, dusentech, driehondert, een, ende, zestech, lxiij, de, xxvijste, dach, va, hoeymaent]\n",
            "[lisebette, gode, typre, ypre, kateline, de, ruusse, xxiiij, lb, par, kateline, mccc, achtentach, en, twel]\n",
            "[gillis, crupeninc, kateline, gode, onser, vrouwen, taudende, stheen, van, jnghelant, taudende, franssoise, va, hautkercke, jacops, van, eemsrode, gillis, katel, jan, bloocs, gillise, kateline, gillis, kateline, gillis, mondekin, gillis, kateline, gillis, mondekine, audende, jan, devisschere, jan, van, der, meere, daneel, van, clessenaere, audende, xxiiijsten, dach, in, ougstmaet, mccc, iiijxx, ende, tienne]\n",
            "[lodewijc, van, den, hecke, grielen, jan, smeden, boudins, van, wijchuus, zes, lb, paris, audenarde, kerssauonde, jnt, jaer, xiijc, xcviij, sente, jansmesse, midden, some, lodewijc, grielen, x, sc, viij, d, paris, pamele, kerkoue, jan, pampleurs, kerssauonde, x, sc, viij, d, paris, lodewijc, fransoys, crupeninghe, audenarde, gillen, van, vse, jans, sone, lodewijc, meynaert, piets, coye, beuer, porte, vj, lb, paris, lodewijc, grielen, audenarde, griele, boudin, van, wijchuus, lodewicke, lodewijcke, jan, van, dmee, willem, cabelliou, arend, van, maerke, audenarde, mccc, xcviij, den, xvij, sten, dach, in, braecmaent]\n",
            "[sottenghe, gherart, van, bost, gherart, van, den, bghe, gherart, van, reaghe, gillis, van, waesbghe, sottenghe, velseke, gillis, gherart, van, boft, gherart, vanden, berghe, gher, van, reaghe, sottenghe, woutre, vanden, bghe, janne, vander, hoeuen, janne, roesbeken, janne, den, groeten, gillise, sottenghe, gher, van, bost, gher, vanden, berghe, gher, van, reaghe, woutre, vande, berghe, jan, vand, hoeuen, jan, roesbeke, jan, de, groete, dusentech, drije, hondert, ende, twintech, jaer, jn, de, maent, die, men, heet, maerte]\n",
            "[helsengh, jacob, va, den, putthe, gillis, va, heilbrouc, achtien, scellinghe, euerards, arnoude, va, den, dorne, v, d, xij, d, xviij, sc, par, jacob, viij, sc, par, kers, x, sc, par, iacob, auden, m, ccc, xxxiij, te, paschen]\n",
            "[ysabeel, van, den, hueueruws, aelst, katelinen, van, den, hueueruws, goessine, barnagen, jane, den, tolneere, vse, willemme, dauid, lede, heinricke, van, landighem, philips, sansen, oliuiere, van, der, courben, iiijxx, lb, groeter, torn, arnoud, barnages, iiijxx, lb, groet, torn, ysabeel, ysabeele, ij, lb, paris, vlaendren, dorneke, iiijxx, lb, gro, torn, ij, lb, paris, iiijxx, lb, groet, torn, ysabeel, katelinen, van, den, hueueruws, jan, barnagen, gheerart, wauel, auden, fransoys, van, warighem, mccc, ende, xliij, jn, sente, pieters, en, sente, pauwels, daghe]\n",
            "[magriete, van, rume, anes, van, musebrouc, michiele, barlebane, xxxvi, sc, paris, kersauonde, anes, magriete, van, rume, steuen, den, bartmacre, petenghe, jhan, bonen, piet, van, heilebrouc, gherard, den, parmentier, jhan, mo, renghe, oudenarde, beats, ouden, maes, vancaleberghe, jhan, nose, hannek, moenard, touden, mccc, e, viue, jn, meie]\n",
            "[claus, de, brune, zotteghem, zotteghem, jan, van, der, haghen, jan, vander, maren, michiel, van, der, maren, gillis, van, vp, den, bosch, gillis, deletter, lijsbette, janne, van, der, elst, heinrix, van, der, elst, vijftiene, ponde, parisise, jan, van, den, niewenhuus, janne, van, den, wolputte, zotteghem, god, gillise, den, letter, lijsbetten, gillis, de, letter, lijsbette, vijftien, ponden, par, gillis, de, letter, lijsbette, dertienhondert, viue, ende, zestich, september, claus, de, brune, jan, van, dhaghe, jan, vad, maren, michiel, vad, maren, gillis, va, vp, den, bosch]\n",
            "[jane, van, zeghelsem, janne, vander, meulen, jans, clercs, maelderghem, xxx, sc, parisise, xij, peninghe, sente, jannes, daghe, midden, zomere, jan, mergriete, janen, maelderghem, ter, meulen, vornebeke, eename, sente, denijs, boucle, materne, jan, mergriete, janen, jane, jane, janne, mergrieten, sente, jannes, daghe, midden, zomere, jane, janen, arnout, gobbierts, steuen, arnouds, gillis, bernaerds, willem, de, keulneere, gillis, de, meyere, jan, bosch, willem, de, houwere, claus, de, hoedemakere, eename, mccc, ende, xxxviij, sfriendaech, vor, half, hoymaent]\n",
            "[arnout, de, smet, sente, baues, daneel, sente, baues, goesiin, pottier, jacop, de, smet, jan, de, brune, bruuns, clais, van, mendonck, ian, van, der, herlo, willem, bruniinch, sente, baues, maechelein, sente, baues, jan, mergriete, audenaerde, zesse, lib, par, volckwiif, elsine, maechline, leye, ghent, baudiin, ruum, gherolf, bette, goesiin, mulaert, mccc, vier, en, viertech, den, vierden, dach, van, aprulle]\n",
            "[robrecht, van, den, walle, jhan, van, den, walle, jhan, hauwiel, jacob, van, den, werue, wille, danscoe, makere, ypscen, pauwels, van, inghelant, clais, withoc, ype, jhan, de, brueselare, crestine, ypre, yp, niclais, van, der, caerde, yp, ypscen, cirdcie, mccc, en, achte, en, twintegh, jn, laumaent, saterdachs, na, sinte, pauwels, dach]\n",
            "[pieter, pantijn, janne, den, mol, xiiii, sc, parisise, kersauonde, sentemarienlichtmesse, jan, mergriete, teename, quaethannijns, ians, sbeys, jan, mergriete, pieters, pieter, pieter, janne, mergrieten, sentemarienlichtmesse, pieter, jan, mergriete, jacop, willecois, willem, de, keulneere, gillis, bernaerds, willem, de, houwere, jacop, de, temberman, boydin, dolislaghere, jan, bosch, goeric, mouwe, eename, mccc, ende, xlvij, sdonredaechs, naer, onser, vrouwen, dach, lichtmesse]\n",
            "[zotteghem, annees, van, oudaghe, gillise, blanckaerde, gheeraerds, van, der, hoeuen, gillis, drien, schelinghen, parisisen, ghijleghem, gillis, anees, zotteghem, dusentich, driehondert, ende, viue, ende, tseuentich, den, seuene, ende, twintichsten, dach, jn, aprille]\n",
            "[sente, marien, oudenhouen, jane, vanden, kerchoue, janne, vanden, berghe, sente, marien, oudenhouen, drie, pont, parisise, kerssauonde, sente, jansmesse, midden, zomer, drie, pont, pariss, jan, janen, molen, coutre, jan, drie, pont, pariss, janen, jane, jan, zotteghem, sente, marien, oudenhouen, dertienhondert, ende, twee, ende, zestich, den, zesse, ende, twintichsten, dach, van, loumaende]\n",
            "[zotteghem, bertelmeeus, zoete, willemme, den, paeu, gheertruuden, sconijncx, lijsbetten, tshasen, jans, shasen, erweteghem, twee, ende, vijftich, schellinghe, parisise, twee, ende, dertich, schellinghe, parisise, janne, den, voghelare, twintich, schellinghe, parisise, nederem, nijse, van, nederem, willem, de, paeu, gheertruud, sconincxs, lijsbette, tshaesen, kateline, van, der, straten, jans, shasen, bertelmeeus, zoete, kateline, tsasen, janes, shasen, zotteghem, dusentich, drie, honder, ende, viue, ende, tseuentich, den, achtensten, dach, jn, hoymaent]\n",
            "[zottighee, jan, desmet, den, bossche, sente, guerix, ouden, houe, janne, van, claterbosch, zesse, en, derdich, grote, zesse, en, dertich, grote, kershauonde, jan, van, claterbosch, zesse, en, dertich, clatbosch, jan, vanclaterbosch, janne, den, smet, jan, de, smet, iiij, scellingg, par, dertienhondert, en, drie, ende, vijftech, te, half, aprille]\n",
            "[danin, pinchemaelge, adryane, gheylinghe, lijsbetten, vier, pond, paris, vlaendre, vier, pond, paris, adryaen, lijsbette, audennarde, danine, kerssauonde, sente, marien, lichtmesse, kerssauonde, adryaen, vlaendre, sente, mtins, lierde, vier, pond, paris, danin, pinchemaelges, sutters, vlaendre, sente, mtins, lierde, adryaen, danin, danin, adryaens, adryaen, sente, marien, lichtmesse, danin, pinchemaelge, vier, s, paris, danin, pinchemaelge, adryaen, danin, pinchemaelge, adryaen, audennarde, danin, adryane, danin, adryaen, jan, compeine, bourgongen, gue, van, vlaendre, jacop, faynyaerde, ghijselb, vand, beken, gheeraert, coelins, jan, va, lenthout, claus, vlaendre, sentemtins, lierde, duysentich, drie, hondert, drie, ende, neghentich, tuutgane, van, braecmaende]\n",
            "[gillis, van, elst, jane, den, hert, beatrice, sriken, zes, pond, par, kerssauonde, onser, vrouwe, daghelicht, messe, lxxxix, vlaendren, ghend, gillisse, gillisse, iij, gro, aspelaer, kakebroec, lancbrouc, asselt, couter, gillisse, aspelaer, onser, vrouwendach, lichtmesse, gillis, gillis, iij, sc, par, aspelaer, iij, lb, par, gillisse, aspelaer, aspelaer, jan, van, liedekerke, jan, ferrant, wout, spikinc, heinric, der, kinder, jan, pieters, wouter, papeians, mccc, en, lxxxviij, ter, haluer, maend, van, december]\n",
            "[jan, van, beyaert, jans, lieuaert, crachte, arende, van, den, vergiere, kerstiane, lieuins, pamele, pamele, schelde, gillis, svogheleeren, arend, zoets, pamele, janen, jans, den, heede, achte, schellinghe, paris, audenaerde, viij, sc, paris, aprulle, jan, van, beyaert, auden, jan, viij, sc, goessins, van, hauteghe, fransoys, crupeninc, coelaerd, lodemaer, jan, lodewijcx, auden, mccc, viue, ende, neghentich, den, xiiij, sten, dach, in, hoymaend]\n"
          ]
        },
        {
          "output_type": "stream",
          "name": "stderr",
          "text": [
            " 76%|███████▌  | 118/155 [00:00<00:00, 209.24it/s]"
          ]
        },
        {
          "output_type": "stream",
          "name": "stdout",
          "text": [
            "[dierlay, van, den, wincle, jane, dierlay, jan, katerine, dierlaye, janen, dierlay, jane, katerine, dierlays, janen, vijftech, pond, gro, torn, vlaend, munten, pietren, van, steenhuuse, dierlay, jan, katerine, pieter, dierlaye, janne, katerine, vier, hondert, pont, gro, torn, vlaendr, camerike, auden, dierlay, jane, dierlaie, jan, cabbell, jan, de, vissere, piet, va, berchem, auden, mccclxxviij, in, sente, maerx, daghe, ewang]\n",
            "[jan, van, den, nuevile, kateline, dierlays, taudenarde, xvj, sc, paris, maerte, jan, kateline, triepenhallinc, straetkin, paemle, wouters, swinters, x, sc, par, maerte, jan, kateline, paemle, roegier, de, winter, jan, profeets, audenarde, jan, van, den, nuevile, kateline, dierlays, gheeraert, raephoeft, jonghe, jan, van, den, nuevile, kateline, audende, oliuier, va, huerne, franssois, van, der, craeyen, coellaert, lodemaer, jan, lodewijcxs, audenarde, xxiiij, sten, dach, in, meye, mccc, en, xci]\n",
            "[willem, van, coekelberghe, hundelghem, gheerraerde, den, smet, woermiinne, kateliinnen, sconinx, sessetienne, scelliinghe, parysiisse, kerssauonde, kerssauonde, gheerraert, de, smet, kateliinne, sconinx, willemme, willems, croeniins, woermiinne, velseke, gheerraert, de, smet, kateliinne, willemme, willem, velseke, aernoud, pandellaert, jan, de, slotemaker, boudiin, van, loe, jan, pandellaert, gilliis, danniis, diederiic, van, auertuimme, duussentech, driehondert, ende, achte, ende, uiertech, sdeissendaghes, vore, onsen, vrouwen, dach, in, maerte]\n",
            "[velzeke, gilles, claus, van, massemine, tsvos, dieperbeke, laureins, van, lancackere, jan, zeghers, van, den, bossche, laureinse, achte, en, viertich, schellinghe, paris, jan, zeghers, achte, en, viertich, schellinghe, par, laureins, gilles, claus, achte, en, viertich, schellinghe, paris, loureins, laureins, gilles, claus, jan, zeghers, gilles, claus, achte, en, viertich, schellinghe, paris, laureinse, jan, zeghers, laureinse, janne, zeghers, van, den, bossche, dertienhondert, zeuene, en, viertich, vp, den, achstersten, dach, van, der, maent, van, decembre]\n",
            "[kateline, van, denoeurenhuus, audenarde, gode, herne, huerne, gherbrouch, kateline, van, den, oeurenhuus, xxxvj, d, paris, audenarde, pieter, van, dergoten, m, ccc, ende, xlix, in, de, maent, van, nouember]\n",
            "[gillis, va, scendelbeke, magriete, audenarde, vijf, scellinghe, paris, kersauonde, zente, marien, lichtmesse, v, sc, par, yedenghem, ter, rijt, en, haut, gillis, lilloril, mccc, drie, en, dertech, te, ksav]\n",
            "[ruddershouen, wouter, van, der, weeden, aernoud, pandelaerde, twintich, schellinghe, parisise, ouden, conincs, groten, tornoysen, twalef, penninghe, paris, kershauonde, twintich, schellinghe, paris, wouter, arnoude, wouter, twintich, schellinghe, par, arnoude, arnoud, ruddershoue, dertienhondert, achte, en, dertich, jn, sentenichasis, daghe]\n",
            "[gillis, de, meyere, mergrieten, gillis, gadmins, pamele, schelde, hamme, de, tichelrie, mgrieten, pamele, jacops, correelmakers, hame, iiij, sc, en, ix, d, gro, torn, vlaendscher, mute, kersauode, gillis, iij, lib, gro, torn, mute, mgriete, gillise, audende, pamele, fransois, crupeninc, coelaerd, loedemare, oliuier, va, huerne, audenaerde, xiij, en, lxxxviij, den, xiiij, ste, dach, van, aprulle]\n",
            "[velzeke, jan, temer, jans, temers, lauwereinsse, van, langhhackere, ghend, drie, ponde, parisise, jan, temer, lauwereinsse, sente, marien, lichtmesse, ghend, lauwereins, lauwereins, van, langh, hackere, ghend, jan, temer, willems, van, den, pitte, ghiselbrechts, gruters, tween, jnghelschen, peninghen, zotteghem, eene, inghelschen, gauere, tenversteenbeke, velzeke, velzeke, jan, temer, lauwereins, sente, marien, lichtmesse, lauwereins, viere, grote, tornoyse, jan, temer, lauwereinsse, lauwereins, velzeke, lauwereins, lauwereinsse, velzeke, swoensdaghes, onser, vrouwendach, lichtmesse, dusentich, driehondert, en, zestich]\n",
            "[pauwels, vlaminc, mich, de, ghier, fense, ghoedybeur, jan, de, wale, clais, de, hane, pasquedale, langhemarc, jacob, gherboud, yppre, janne, de, amman, jans, coste, clais, boitac, labrechtszone, lisebette, piet, keyen, willems, jakemine, ypre, langhemarc, jans, van, der, meulin, frans, van, beisslare, fense, ghoedybeurs, adelijsse, van, den, ghilthuse, jans, van, der, brigghe, pauwels, hughemas, heinrijc, sgroten, jacob, gherboude, pasquendale, mccc, twe, en, dertech, in, laumaent, smaendaeghs, vor, sinte, vissensis, dach]\n",
            "[ruddershouen, arnoud, van, der, lakemeren, janne, van, eecke, viertien, schellinghe, parisise, eenen, groten, tornoysen, twalef, penninghe, paris, kersthauonde, viertien, schellinghe, par, arnoud, janne, ruddershouen, gilles, pandelaerde, arnoud, viertien, schellinghe, par, janne, jan, ruddershouen, dertienhondert, zesse, en, viertich, tsondaechs, na, alf, meye]\n",
            "[zotteghem, marie, shammans, pieter, shammans, niewen, bossche, janne, den, paenremakere, anneesen, drie, pont, ende, twalef, scellinghe, paris, sente, martijns, messe, meye, drie, scellingh, par, jan, de, paenremakere, annees, janne, heyberghe, heinrics, screvels, van, oudenhoven, zesse, penninghe, ende, eenen, hallinghe, jan, de, paenremakere, anneese, marie, marie, dertienhondert, ende, viue, ende, zestich, den, zesten, dach, van, maerte, ten, vte, ghane]\n",
            "[maes, de, ketelbotere, pamele, pamele, yde, van, berlemont, xxiiij, sc, par, xij, sc, xij, sc, sente, marie, lichtmesse, sente, jans, messe, maes, gillis, van, der, craye, jacop, van, den, heede, auden, mccc, lxvj, in, ksauonde]\n",
            "[magriete, vanden, poele, velzeke, gode, onser, vrouwe, ooyen, velzeke, magriete, gilles, abelijns, ghile, magte, willem, van, den, poele, magriete, magte, willem, van, den, poele, magte, willeme, ghile, velzeke, claus, debrune, velzeke, jan, de, slotemake, jan, pandelaerd, heinric, vad, smessen, michiel, rabijt, dertienhondert, neghe, en, viertich, jn, alre, helegheavonde]\n",
            "[pieter, uten, riede, onser, vrowen, audenarde, viertech, scellinghe, parisiser, penninghe, pieter, audenghem, wtfanc, viertech, scellinghe, paris, tonservrouwen, daghe, te, half, oust, pieter, kateline, viertech, scellinghe, paris, haluen, ouste, anees, van, den, putthe, michiele, van, landenghem, ihan, de, werf, michiels, van, landenghe, taudenghem, wouter, betthe, ihan, scinkel, ihan, stuur, soy, van, den, pelliarde, boidin, de, vriese, michiels, taudenghe, dusentech, drie, hondt, dertech, ende, viere, jn, oust, maent]\n",
            "[katheline, hoofts, ypre, marye, rueps, drie, ponden, sesse, sceleghe, en, achte, peneghe, par, maerte, marie, katheline, tiensten, dach, van, meye, mccc, viue, en, tachtentien]\n",
            "[clais, biezebout, jhans, gode, ypre, hontstrate, jhan, pascaris, viere, scellinge, en, drie, allinghe, clare, reinuuts, clais, mccc, ende, viertech]\n",
            "[jan, duime, jan, drelinc, piet, van, winnizele, jhan, de, mattere, pieter, vanden, wiele, tsinte, jans, rollighem, chaerls, vanden, eechoute, yppre, victorre, pieters, van, douwaey, een, ende, vichtich, scellinghe, ende, ses, peninghe, paris, chaerls, sinte, bamesse, jhan, den, vos, de, quadegheldre, rollighem, boudein, ruussins, straetkin, lanceloots, vander, borch, jhan, coelaerds, rollighem, mccc, drie, en, neghentich, den, laetsten, dach, jn, meye]\n",
            "[katerine, scupers, heinric, joffroets, jan, katerine, mergriete, heinrike, laurens, arnoud, jans, scupers, katerine, jan, lieuins, pamele, michiels, riken, laurense, katerine, laurens, laurens, katerine, katerine, janne, den, cupre, gillis, va, der, meere, gillis, cabbeliau, gillis, van, der, crayen, jan, van, den, boengaerde, auden, mccclxiiij, den, twalefsten, dach, van, meye]\n",
            "[heinric, beyaert, arekine, paessche, grielen, bods, xx, lb, gro, torn, vlaemscher, muten, x, lb, gro, heinric, heinricx, xl, lb, paris, heinric, vlaendre, audenaerde, heinric, taudenaerde, heinric, fransoys, crupeninc, jnghel, va, erleghem, audende, mcccxcix, den, ix, sten, dach, jn, aprille]\n",
            "[jan, willem, sceerbards, pamele, pieter, griele, kersauonde, kersauode, xlij, sc, par, xlij, sc, par, xlv, lb, par, xlv, lb, par, jan, de, ketelbotre, pieter, de, ketelbotre, jan, jan, jan, jan, jacop, crupeninc, pieter, alloese, audenarde, jan, vanden, bghe, jan, brein, pamele, sente, niclaeus, daghe, m, ccc, lxxj]\n",
            "[sotteghem, laureins, van, lancackere, katelinen, sputters, twintich, scellinghe, par, ghent, kersauonde, sente, marien, licht, messe, sotteghem, katteline, sputters, laurense, meyers, pieters, ver, minnen, alsbrouc, martine, ghisels, kateline, twintich, scellinghe, par, laureinse, laureins, kateline, tsente, marien, licht, messe, laureins, twalef, penninghe, parisise, dertienhondert, ende, achte, ende, veertich, vp, sente, marcs, dach, jn, aprille]\n",
            "[iha, van, landenghe, audenarde, pietren, vten, riede, viertech, scellinghe, parisise, anees, va, den, putthe, audenghe, taudenghe, michiels, van, landenghe, dusentech, driehondert, vier, en, dertech, jn, sporcle]\n",
            "[zotteghem, michiel, lancdul, halsbroec, vlaeds, gillis, blancaerde, viue, ende, twintich, scellinghe, parisese, viue, ende, twintich, scellinghe, paris, kersauonde, michiel, michiel, michiel, michiel, michiel, gillise, michiel, gillis, michiel, michiel, michiel, vijftien, pont, gillese, dertienhondert, zesse, ende, viertich, te, kersauonde]\n",
            "[velzeke, jan, vandeberghe, rideel, janne, cabbernale, katelinen, springhers, kersauonde, jan, cabbernael, kateline, janne, vande, berghe, springhers, ian, kateline, ian, dertienhondert, viue, ende, sestech, tsondaechs, voer, sente, pauwels, dach]\n",
            "[velzeke, laureins, van, lancackere, janne, zeghers, van, den, bossche, achte, en, viertich, schellinghe, parisise, ghent, kersthauonde, sente, marien, lichtmesse, velzeke, achte, en, viertich, schellinghe, par, jan, laureinse, tskeuers, jan, laureinse, laureins, jan, sente, marien, lichtmesse, laureins, twalef, penninghe, paris, dertienhondert, zeuen, ende, viertich, jn, senter, niclaus, auonde]\n",
            "[zotteghem, annees, van, ondaghe, janne, den, vliegher, viere, ende, twintich, scellinghe, par, zotteghem, kerssauonde, kerssauonde, viere, ende, twintich, scellinghe, par, jan, anneesen, claus, vernimen, wouter, zoetijns, jan, anneesen, hof, ter, oeyen, annees, drie, scellinghe, par, jan, anneesen, annees, dertienhondert, viue, ende, zestich, den, zestienden, dach, van, der, maent, van, december]\n",
            "[dierlay, rijcman, griele, marie, jacop, rijcmans, auden, goessine, rijcmanne, goessins, zinghem, huerne, goessin, rijcman, auden, jan, van, der, crayen, jan, brune, heinric, van, viue, gheerart, wauel, gillis, crijn, gillis, van, pudebrouc, clays, pieter, auden, mccc, en, xlv, sdonresdaechs, naer, sente, matheeus, dach]\n",
            "[daneel, van, der, varent, jan, pampeluer, boudin, pampeluers, scelden, lieuin, crachte, arent, van, den, vergiere, kerstiaen, lieuins, pamele, ellef, grote, jans, van, der, meere, jans, van, der, heyden, jans, van, der, muelen, ellef, gro, daneel, jan, kersauonde, dusentich, driehondert, en, viue, en, neghentich, kersauonde, daneele, van, der, varent, jan, pampeluere, audenarde, jan, van, der, meere, jan, van, derheyden, jan, van, der, muelen, audenarde, dusentich, driehondert, en, vier, en, neghentich, sanderdachs, na, sente, andries, dach]\n",
            "[arent, snouc, jan, ketel, pamele, lx, lb, par, boudiin, snoux, jan, van, bonduse, gillis, bints, arent, snouc, jan, ketel, boudiin, jhanen, shinnen, iiij, lb, xvj, sc, par, jhane, lx, lb, par, xiij, lb, par, xlviij, lb, par, xlviij, lb, par, wille, joes, boudin, jhane, shinne, boudin, snouc, xlviij, lb, par, lx, lb, par, xij, lb, par, boudins, boudin, jhane, hinn, arent, de, snouc, jan, ketel, jan, van, bonduse, gillis, bints, gillis, vand, meerre, boudiin, raephoft, audenarde, jan, vanden, bghe, jan, gommers, pamele, den, xvden, van, sporcle, m, ccc, lxx]\n",
            "[gheerard, raphoeft, nees, hughe, vranx, nees, gillis, slanghen, neesen, gheerard, pamele, pamele, nees, gheer, neesen, vijftiene, pont, gro, torn, gheerard, gheerard, audenarde, gillis, crupeninc, lodewijc, van, den, ecke, audenarde, m, ccc, lxxxiij, te, sente, jans, messe]\n",
            "[gill, de, hont, nukke, onsvuwen, auden, nukke, sentemarien, borne, gill, arnouds, auden, rase, van, helleputte, willem, van, d, ardbrugghen, boidin, van, arixdale, iaen, van, melden, gill, de, scoppe, melden, melden, m, ccc, ix, sdonredaghes, na, oct, mei]\n",
            "[johan, snouc, michiel, masin, andries, mewelin, wouter, de, bets, johan, blaeuvoet, messine, zuutscoten, noorscoten, johan, scerebaert, ypre, clais, baerse, zuutscoten, zuutscoten, johan, beyers, dilf, kemle, johan, clais, sons, johan, beyers, clais, baers, lammin, den, wale, zuutschoten, johan, scerebaerts, zeuen, scellinghe, par, m, ccc, en, zestich, vp, den, zeuensten, dach, van, hoymaent]\n",
            "[johan, snouc, michiel, masin, messine, zuutscoten, noerscoten, clais, baers, zuutscoten, johan, scerebaerde, ypre, zuutscoten, johan, beyers, johan, scerebaert, clais, baerse, drie, pont, par, sinte, baues, messe, sinte, johans, messe, midsomer, clais, baers, mccc, en, zestich, vp, den, zeuensten, dach, van, hoymaent]\n",
            "[zotteghem, kateline, van, valensine, jane, van, den, groeten, bruele, viere, pond, en, zestien, schellinghe, parisise, zotteghem, sente, marien, lichtmesse, viere, pond, en, zestien, schellinghe, par, jan, katelinen, sente, goerix, houdenhoue, jans, jane, michiels, jane, screuesle, ghijse, den, molre, jans, jonghen, twee, schellinghe, parisise, jan, jan, katelinen, hoyen, jan, kateline, kateline, drie, schellinghe, paris, jan, kateline, gillise, van, den, groeten, bruele, jans, dusentich, driehondert, en, een, en, zistich, den, derden, dach, van, sporkele]\n",
            "[velzeke, willem, van, denhole, jans, van, eecke, aernoud, biermanne, tiene, schellinghe, parisise, maerte, tien, schellinghe, parisise, aernoud, janne, van, eecke, buseghem, aernoud, tien, schellinghe, paris, janne, van, eecke, jan, dertienhondert, drie, en, viertich, te, alf, aprulle]\n",
            "[kateline, dierlay, crupeninghe, gode, audenaerde, audeaerde, taudenaerde, steen, van, jnghelant, kateline, x, sc, gro, vlaemscher, munten, kateline, steen, van, jnghelant, fransoye, crupeninc, fransoye, van, der, crayen, daneel, van, den, bossche, audenarde, m, ccc, xcv, den, xiste, dach, in, octobre]\n",
            "[marie, willems, mespelleeren, gillis, moenijns, zeghelsem, sente, cornillis, hoerenbeke, katelinen, janen, zeghelsem, xv, sc, parisise, kersauonde, sentemarienlichtmesse, hermijns, zeghelsem, gheerouds, dale, sente, cornillis, hoerenbeke, janne, vander, meulen, raes, scietkats, sentemarienlichtmesse, kateline, jane, ghiselbrecht, de, meyer, jan, vanden, keye, vinout, gillis, vanden, keye, gillis, screuel, willem, zeghelsem, steuen, scietcatte, steuens, steuen, de, smet, jan, vinouter, steuen, vanden, opstalle, gillis, oste, sente, cornillis, hoerenbeke, mccc, ende, xlvij, jn, hoymaende]\n",
            "[pieter, weyns, janne, van, lathem, viere, en, twintich, scellinghe, parijss, janne, van, lathem, jacoppe, van, lathemme, jacop, louwerse, vander, beken, twalef, scellinghe, parijss, louwers, jacoppe, van, lathem, jans, sghelux, jacop, twalef, scellinghe, parijss, fyerine, gheerts, fyerijn, jacoppe, van, lathem, gillis, amelrijx, jans, snorren, viere, ende, twintich, scellinghe, parijss, kersauonde, onser, vrouwen, daghe, lichtmesse, jan, van, lathem, svoghels, ellef, scell, ellef, penninghe, parijss, blaersuelde, pieter, weyns, jan, van, lathem, viere, ende, twintich, scell, parijss, pieter, pieter, viere, ende, twintich, scellinghe, parijss, pieter, jan, stassiin, blaersuelde, sente, marien, lierde, jan, de, norre, jan, de, voldere, jan, vandcrommerhaghen, heynric, de, scanfeleere, dusentich, drie, hondert, neghetich, ende, zesse, den, vijfsten, dach, van, nouember]\n",
            "[rase, veldekin, thielt, audenaerde, xl, sc, par, xx, sc, par, xx, sc, par, xl, sc, par, inghel, brune, rase, veldekine, sente, baefs, daghe, audenaerde, xx, sc, par, jan, scups, lodewijx, van, de, boemghaerde, jans, van, den, bossche, neder, strate, xx, sc, par, jacops, van, ghent, xl, sc, par, jnghel, brune, raes, jan, de, visschere, jan, van, der, sicclen, auden, mccc, ende, lxx, in, de, maent, van, octobre]\n",
            "[pieter, de, hane, audenaerde, gillise, betten, marien, beelen, vand, steenbrugghen, viij, lib, gro, god, pieten, piets, piet, jan, vand, meere, lodewijc, vanden, hecke, jan, vand, heiden, jan, vand, muelen, audenaerde, xiij, en, xciiij, den, xviijsten, dach, van, decembre]\n",
            "[jehan, de, coluenare, jacop, van, den, werue, jeh, hugheman, willem, de, memer, jehan, van, den, vliederbeke, ypersschen, jehan, de, puud, henrix, ypre, denys, scattine, yp, vlaend, ypsschen, dickebusch, clais, puuds, kanin, lauwereins, jehans, puuds, willem, edewards, sinte, baefs, messe, twintich, scellinghe, par, denise, sinte, jans, messe, mids, zomers, sinte, baefs, messe, mccc, zesse, en, dartich, saterdaghes, vor, sinte, baefs, dach]\n",
            "[katerine, van, zeghelsem, jane, jan, wayenberch, gillis, zwakaerts, baerstrate, vj, s, paris, onser, vrouwen, daghe, maerte, iiij, s, paris, arent, hannaerts, arent, doernart, iiij, s, paris, kersauonde, katerine, x, s, paris, pamele, katerine, janne, van, der, haghe, janne, den, penemakre, pamele, gillis, de, cueninc, mccc, ende, xlix, jn, sente, marien, maegdaleenen, daghe]\n",
            "[jehan, de, colvenare, jacop, va, den, wue, jeh, hugheman, wille, de, memere, jeh, va, der, vliederbeke, ypersschen, denys, scattin, ypre, heinric, den, puud, henrix, marien, ypre, vlaendre, ypersschen, dickelinsch, clays, spuuds, kanin, lauwerins, jehan, spuuds, willems, edewards, denys, scattin, mccc, zesse, ende, dertich, saterdaghes, vor, sinte, baefsmesse]\n",
            "[zotteghem, kateline, van, valensine, jacoppe, den, loesen, viere, ende, twintich, scellinghe, parisise, zotteghem, sente, bamesse, viere, ende, twintich, scellinghe, par, jacop, katelinen, de, dellet, goessijns, van, coudenberghe, claus, boengaerds, sente, gorix, oudenhouen, jacoppe, marien, sbaerdmakers, jacop, viere, ende, twintich, scellinghe, par, ghent, kateline, kateline, kateline, drie, scellinghe, par, dusentich, drie, hondert, zeuene, ende, zestich, sdicendaechs, voer, sente, symoens]\n",
            "[gheerart, rikeman, audennaerde, lcccc, lb, ende, lx, lb, parisise, oude, groete, tornoise, xij, d, gheerart, beuere, ter, haghe, xij, d, parisise, van, hayshoue, gheerarts, gheeraerts, jan, de, brune, audennarde, jnghel, pennjnc, mccc, ende, xxxiiij, den, achtersten, dach, van, decembre]\n",
            "[goessin, rikeman, auden, zinghem, goessin, rijcman, c, lb, paris, haspre, zinghem, huerne, lede, gheerart, wauel, auden, goessin, bloc, martin, van, der, marken, mccc, ende, xl, ten, jnghane, van, der, maent, van, aprulle]\n",
            "[zottenghem, jan, van, der, boenbeken, pouwelse, van, den, dale, tiene, scellinghe, parisise, alre, heyleghen, messe, sente, martijns, messe, tien, scellinghe, parisise, pouwels, janne, claus, baertmakers, claus, van, nederhem, pouwels, tien, scellinghe, parisise, janne, jan, jan, pouwels, tien, scellinghe, parisise, drie, scellinghe, parisise, pouwelse, dertienhondert, zesse, ende, viftich, den, zeuentienden, dach, van, laumaende]\n",
            "[riddershouen, jan, de, vlaminc, lijsbette, arnout, pandellaert, arnout, pandellaert, riddershouen, arnout, pandellaert, arnout, janne, den, vlaminc, lijsbetten, xl, sc, zuartt, parisise, kersauonde, kersauonde, v, sc, zuartt, par, riddershoue, dusentech, ccc, ende, viere, en, thuintech, te, 1, 2, hoimaende]\n",
            "[zotteghem, lievijn, van, der, maren, janne, van, der, maren, een, ende, dertich, scellinghe, parisise, kerssauonde, een, ende, dertich, scellinghe, par, jan, lievine, jueten, sflieghers, gootferdeghem, jan, een, ende, dertich, scellinghe, par, lieuine, lievijn, dertienhondert, zeuene, ende, zestich, den, twe, ende, twintichsten, dach, van, wedemaende]\n",
            "[kateline, jane, van, zeghelsem, sente, cornillis, hoerenbeke, onser, vrouwen, audenarde, xv, sc, par, kersauonde, sentemarien, lichtmesse, xv, sc, par, hermijns, sente, cornillis, hoerenbeke, mergriete, willems, mespeleeren, kateline, jane, van, zeghelsem, xv, sc, par, marie, cabboets, onser, vrouwen, auden, marie, cabboets, scoeresse, ians, van, rokighem, wouter, moerge, jan, vinhouters, steuin, de, smet, jan, de, poertere, jan, nuetins, steuin, van, den, opstalle, mccc, en, l, in, sente, pieters, daghe, in, sporcle]\n",
            "[pieter, hoen, coelaerds, grielen, zoeters, pamele, pamele, grielen, grielen, piet, hoene, auden, griele, pietren, grielen, piets, pieters, grielen, pieter, hoen, ijc, lb, par, vlaemsscher, muten, eene, gro, torn, xij, d, par, griele, piet, hoen, audenr, jan, van, dermuelen, jan, lodewicx, audenr, mccc, een, en, neghentich, den, xsten, dach, in, maerte]\n",
            "[michiel, calconen, ypre, ypre, viue, en, twintich, ponden, parisisen, medewintere, michiel, dusentich, drie, hondert, en, neghen, en, neghentich, den, vichtiensten, van, lauwe, maent]\n",
            "[kateline, jane, van, zeghelsem, zeghelsem, onser, vrauwen, audenaerde, xv, sc, par, kersauonde, sente, marien, lichtmesse, xv, sc, par, her, mijns, zeghelsem, lobis, xv, sc, par, kateline, jane, van, zeghelsem, marie, caboets, ons, vrauwe, audenaerde, scoersse, marie, marie, willems, smespeleen, gillis, moenins, zeghelsem, ghiselbrecht, de, meyere, jan, vinouter, willem, hee, gillis, van, den, keye, gillis, de, vlaminc, jan, de, weer, gillis, screuel, mccc, en, viiftech, jn, sente, pieters, daghe, jn, sporcle, xv, sc, par, sente, cornillis, hoerenbeke, xv, sc, parisise]\n",
            "[jan, gillis, van, mersche, pamele, jan, piers, lijsbette, jans, piers, xxiij, sc, ende, iij, d, par, schelde, eynstrate, pamele, zeven, lib, gro, torn, vlaendsse, mute, iij, lib, gro, torn, sente, jansdach, midden, zome, jan, pamele, jan, va, mersche, lijsbette, ij, lib, gro, torn, mute, iiij, lb, gro, sentejans, daghe, midden, zomere, ij, lib, gro, torn, sente, jansdaghe, m, ccc, lxxxviij, vij, lb, gro, torn, jan, va, mersche, jan, jan, de, vissche, arent, cabelliau, jan, brune, audenaerde, gill, de, smet, lanceloet, va, maerke, pamele, onser, vrouwenauonde, talf, houste, jnt, jaer, mccc, en, lxxxvj]\n",
            "[riddershouen, jan, makereel, gosijn, drabben, magrieten, riddershoue, willems, van, coleem, gheeraerds, van, botelaer, gosijn, drabbe, magriete, magriete, martijns, papen, gosijn, magte, jan, makereel, gosijn, magte, magte, janne, magriete, gosijn, drabbe, riddershoue, janne, makereele, riddershoue, dertienhondert, viere, en, viertich, vp, den, palmesaterdach, omtrent, alf, maerte]\n",
            "[iacop, van, der, eerloe, ianne, boidijns, stripen, viij, scellinghe, parisise, viij, scellinghe, par, ian, sconinx, velseke, viij, scellinghe, par, kersauonde, iacop, iacop, ianne, twee, scellinghe, parisise, iacop, iacop, iacop, ianne, velseke, dertienhondert, en, achte, ende, vijftech, thalf, maerte]\n",
            "[amand, van, curtenberghe, robbrechte, van, maelbrouc, robbrechte, pamele, robbrechts, onser, vrouwedach, september, xij, d, vj, d, xij, d, pamele, pamele, iij, sc, amand, xiij, sc, paris, vlaemscher, muten, pamele, robbrechts, robbrechts, onser, vrouwen, daghe, septembre, katelinen, robbrechts, marien, oliuiere, jacops, marien, robbrechte, xiij, sc, paris, audenarde, lodewijc, van, maerke, jan, van, matne, heinric, van, den, braembossche, lodewijc, van, den, hecke, arend, van, maerke, goessin, vlaminc, audenaerde, mccc, xcviij, den, vijfsten, dach, in, braecmaent]\n",
            "[heinriq, de, hane, lambt, van, der, veste, reubrecht, pietin, jhan, hone, piet, van, den, wereue, yperschen, michiel, boytac, slipen, ypre, kerstine, jhans, remut, yhpre, vlamertinghe, vlaendre, nendins, zagh, jhans, maets, nieuwerkemmele, pieters, balch, michiele, ypersche, m, ccc, ende, een, ende, tuintech, vrindaghe, voer, den, eleghe, crucedaghe, jn, piet, maent]\n",
            "[zotteghem, bertelmeeus, zoete, claese, huten, dale, mergrieten, vtendale, janne, van, heetevelde, mergrieten, marien, sammans, janne, moenins, katelinen, van, valenchijne, auezoeten, passcharijs, katelinen, passcharijs, katelinen, van, den, walle, boudins, van, den, walle, ghijselbrechte, polleyne, erweteghem, serjuerijs, goed, bertelmeeus, zoete, zotteghem, dusentich, driehondert, ende, achte, ende, tseuentich, den, zeuene, en, twintichsten, dach, jn, septembre]\n",
            "[jehan, jacopszone, gherard, van, den, walle, michiel, queke, woubrecht, van, rosebeike, pieter, van, der, haghe, yppersschen, heinric, rugghinvoet, yppre, france, den, bere, beatrissen, ypre, vlaendre, yppersschen, briele, eluerdincstrate, jehan, martins, sinte, kerstinen, ypre, yppersschen, heinric, rugghinvoet, france, den, bere, heinric, rugghinvoete, achte, pond, par, heinrike, sinte, jehands, daghe, baptists, sinte, baeufsdaghe, france, de, bere, heinric, rugghinvoet, dusentech, drie, hondert, een, ende, zestech, vp, sinte, baeufs, dach]\n",
            "[mayelin, onghereit, pieter, van, der, beyke, andries, jnghel, jehan, de, bleyer, jacob, de, bere, meessine, nortscoten, zuutscoten, ledenaerd, van, den, cole, ypre, jacob, cruken, ypre, zuutscote, dypre, marie, sbuerechgrauen, steenstrate, moelne, martins, broukers, johan, covents, clais, onghereiden, twalef, scellinghe, en, achte, peninghe, vijf, scelle, par, meessine, zevene, scellinghe, en, achte, peninghe, paris, zuutscoten, jacob, cruke, willem, daenssone, leidenaerds, van, den, cole, twalef, scelle, en, achte, pene, par, meessine, willem, jacob, cruken, viere, en, twintich, scellinghe, paris, sinte, bauesmesse, ledenaerde, jacob, cruke, typre, ledenaerde, bauesdaghe, jacob, ledenaerde, ledenaerd, vijf, scelle, par, jacobpe, ledenaerd, mccc, en, zeventich, vp, den, xxsten, dach, van, woydemaent, j, de, bleyer]\n",
            "[kateline, jane, van, zeghelsem, zeghelsem, onser, vrauwen, audenaerde, l, sc, paris, kersauonde, sente, marie, lichtmesse, l, sc, par, xxx, sc, par, joes, smeeds, xx, sc, par, xxx, sc, par, claus, smeeds, ros, zeghelsem, lobis, l, sc, par, kateline, jane, vanzeghelsem, marie, caboets, onser, vrauwe, audenaerde, scoersse, marie, caboets, ghiselbrecht, de, meyere, willem, heere, gillis, van, den, keye, gillis, de, vlaminc, gillis, screuel, mccc, en, l, jn, sente, pieters, daghe, jn, sporcle]\n",
            "[mergriete, willems, mespelleeren, sente, cornillis, hoerenbeke, katelinen, janen, van, zeghelsem, xv, sc, parisise, kersauonde, sentemarienlichtmesse, hermijns, sente, cornillis, hoerenbeke, sentemarienlichtmesse, kateline, jane, steuen, scietcatte, steuens, steuen, de, smet, jan, vanden, keye, vinouter, steuen, vanden, opstalle, tassin, vanden, damme, gillis, tarulant, gillis, osts, jan, nuetijn, sente, cornillis, hoerenbeke, mccc, ende, xlvij, jn, hoymaende]\n",
            "[kateline, jane, van, zeghelsem, jan, vanden, keye, vinouter, l, sc, parisise, kersauonde, sentemarienlichtmesse, jan, katelinen, janen, zeghelsem, lobis, jan, katelinen, janen, kateline, jane, kateline, jane, janne, sentemarienlichtmesse, kateline, jane, jan, vander, beke, vinout, jans, kateline, jane, l, sc, parisise, jan, vander, beke, joes, smeeds, ros, neckers, velt, kateline, smeeds, ghiselbrecht, de, meyer, gillis, vanden, keye, gillis, screuel, willem, van, torout, willem, heere, daniel, baraet, jan, de, weer, zeghelsem, mccc, ende, xlvij, jn, hoymaende]\n",
            "[zottenghem, jan, dolaghe, sente, claren, ghent, drie, pont, parisis, jan, bors, sleydemersch, sleydemersch, jan, drie, pont, par, jan, drie, pont, par, jan, dertienhondert, zeuene, ende, viftich, den, tienden, dach, van, hoymaende]\n",
            "[jane, van, zeghelsem, janne, vander, meulen, jans, clercs, maelderghem, xxx, sc, parisise, ouden, groeten, conings, tornoysen, xij, peninghe, sente, jannes, daghe, midden, zomere, jan, mergriete, janen, maelderghem, ter, meulen, vornebeke, dbraecsijn, eename, sente, denijs, boucle, materne, jan, mergriete, janen, jane, jane, janne, mergrieten, sente, jannes, daghe, midden, zomere, jane, arnout, gobbierts, steuen, arnouds, gillis, bernaerds, willem, de, keulneere, gillis, de, meyere, jan, bosch, willem, de, houwere, claus, de, hoedemakere, eename, mccc, ende, xxxviij, sfriendaech, vor, half, hoymaent]\n",
            "[jan, van, den, keye, vinhouters, zeghelsem, onser, vrouwen, audenaerde, iij, lb, parisise, xxx, sc, par, kersauonde, sente, marien, lichtmesse, kersauonde, xxx, sc, par, sente, jans, messe, midden, somere, sente, pieters, daghe, oust, iij, lb, par, xxx, sc, par, kersauonde, daniels, van, den, eechoute, jans, van, den, eechoute, zeghelsem, eechoute, lobis, jan, van, den, eechoute, xxx, sc, par, kersauonde, xxx, sc, par, sente, jans, messe, midden, somere, xxx, sc, par, sente, jans, messe, midden, somere, lobis, jan, van, den, keye, vinhouters, marie, cabboets, onser, vrouwen, auden, marie, cabboets, marien, cabboets, scoeresse, ghiselbrechte, den, meyere, willeme, heeren, daniel, de, neve, gillis, van, den, keye, gillis, screuel, willem, van, torout, jan, de, weer, zeghelsem, mccc, en, xlix, sfriendachs, nar, sente, niclaus, daghe]\n",
            "[willem, van, coudenberghe, katelinen, gillis, pandelaerde, jans, vander, nuwerpoort, willem, jan, vander, nuwerpoort, groetenbrouc, sotteghem, sente, marien, oudenh, maes, van, elst, heynric, vander, nuwerpoort, jan, de, rauen, jacop, de, boc, pieter, de, hase, mccc, ende, lxix, den, vierden, dach, van, aprulle, oudenhouen, viij, s, pariss]\n",
            "[gill, de, hont, nukke, onsvuwen, auden, nukke, sentemarien, borne, steengat, gill, arnouds, auden, rase, van, helleputte, willem, van, d, ardbrugghen, boidin, van, arixdale, iaen, van, melden, gill, de, scoppe, melden, melden, m, ccc, ix, sdonredaghes, na, oct, mei]\n",
            "[kateline, jane, van, zeghelsem, janne, van, den, keye, vinout, l, sc, parisise, kersauonde, sentemarienlichtmesse, smessestraten, zeghelsem, kateline, smeeds, ros, neckers, driesch, sentemarienlichtmesse, kateline, jane, l, sc, parisise, jan, vander, beke, vinout, jans, janne, vanden, keye, janne, van, der, beke, jan, vanderbeke, ghiselbrecht, de, meyer, gillis, vanden, keye, gillis, screuel, willem, van, torout, willem, heere, daniel, baraet, jan, de, weer, zeghelsem, mccc, ende, xlvij, jn, hoymaende]\n",
            "[jhan, die, scilder, malegher, die, jonghe, mesine, lampernesse, heinric, moens, sone, jhan, crune, jhan, pietersone, symon, scinkel, clais, heinric, gillis, die, buc, maroie, volkerauens, lampnesse, pieter, rusants, beueric, gillis, den, buc, maroien, pieters, bux, gillis, bux, clais, bux, jhans, vos, arnoud, jhan, saelkinds, meinghers, lnesse, twintech, scellinghe, ende, drie, peneghe, parisise, sinte, bauesmesse, te, half, marte, gillis, die, buc, maroie, gillis, maroie, dusentech, driehondert, en, zesse, ende, viertech, vp, onser, vrouwen, auont, daghe, achter, oest, jn, pietmaent]\n",
            "[velseke, god, michghiel, folke, velseke, ecbrechs, ghent, sente, pieters, dorp, velseke, uelseke, de, opstal, cnutsteghen, michghiel, ecbrechs, ghent, sente, pieters, velseke, mccc, en, ij, in, de, pasch, daghe]"
          ]
        },
        {
          "output_type": "stream",
          "name": "stderr",
          "text": [
            "100%|██████████| 155/155 [00:00<00:00, 206.15it/s]\n"
          ]
        },
        {
          "output_type": "stream",
          "name": "stdout",
          "text": [
            "\n",
            "[jan, buys, ypere, tien, scellinghe, grot, vlems, den, iersten, dach, van, aprille, willem, van, gorinchem, lyere, willem, van, gorinche, jans, dusent, ccc, ses, ent, neghentich, op, den, vijfsten, dach, van, meye]\n",
            "[sotteghem, gillis, vanop, den, bosch, grielen, jan, raes, strijpen, gheeraerde, drie, pond, twalef, scellinghe, paris, kerssauonde, griele, gheeraert, gillis, van, op, den, bosch, griele, gheeraert, drie, pond, twalef, scellinghe, paris, gillis, gillis, griele, gheeraert, gillise, gillis, gillis, strijpen, griele, duysentich, drie, hondert, vierwaerf, twintich, ende, achte, tuutgane, van, december]\n",
            "[kateline, dierlay, crupeninghe, gode, audenaerde, audenaerde, taudenaerde, steen, van, jnghelant, kateline, x, sc, gro, vlaemscher, munten, kateline, steen, van, jnghelant, fransoys, crupeninc, fransoys, van, der, crayen, daneel, van, den, bossche, audenarde, m, ccc, xcv, den, xiste, dach, in, octobre]\n",
            "[lisebette, gode, ypre, ypre, marie, belles, ix, lb, par, maerte, mccclxxx, en, zeiuene]\n",
            "[jehan, houweel, lambt, queke, jehan, van, den, recke, joris, van, der, beike, diederic, herebrecht, ypersschen, jehan, de, mets, ypre, gode, jacoppe, van, dixmude, jehan, stekerape, ypre, ypre, vlaendre, ypsschen, zelebeke, lambt, morins, waerstine, jehan, de, meth, jehan, de, meth, m, ccc, zeuene, ende, viertich, saterdaghs, nar, onser, vrauwe, dagh, in, marte]\n",
            "[steuin, van, ysenghem, breydel, allice, janne, van, der, haghe, wouters, van, der, haghe, marien, eynpoerte, taudende, ij, sc, par, onser, vrouwe, daghe, lichtmesse, steuine, allice, vj, sc, gro, torn, steuin, allice, jane, marie, jane, marie, vj, sc, gro, torn, iij, sc, gro, torn, sente, bauesdaghe, mccc, en, xcj, iij, sc, gro, torn, maerte, sente, bauesdaghe, maerte, jane, marie, janne, marie, sente, bauesdaghe, maerte, steuin, iij, lb, gro, torn, steuin, janne, marien, jan, van, der, haghe, marie, steuin, allice, jan, marie, steuine, allicen, audende, steuin, allice, jane, marie, steuin, allice, audende, jants, marien, franss, van, der, crayen, coellaert, lodemaer, jan, lodewijcx, audende, xvste, dach, in, braecmaet, mccc, en, xcj]\n",
            "[sente, marien, oudenhouen, jan, braem, symoene, gommare, zotteghem, themelrike, zotteghe, sente, marien, oudenhouen, jan, braem, symoene, gommare, symoene, jan, braem, jan, braem, jan, braem, symoen, gommare, dertienhondert, zesse, ende, zeuentich, den, achtiensten, dach, van, ouxtmaende]\n"
          ]
        }
      ]
    }
  ]
}